{
  "nbformat": 4,
  "nbformat_minor": 0,
  "metadata": {
    "colab": {
      "provenance": [],
      "name": "BankCustomersChurn.ipynb",
      "include_colab_link": true
    },
    "kernelspec": {
      "name": "python3",
      "display_name": "Python 3"
    },
    "language_info": {
      "name": "python"
    }
  },
  "cells": [
    {
      "cell_type": "markdown",
      "metadata": {
        "id": "view-in-github",
        "colab_type": "text"
      },
      "source": [
        "<a href=\"https://colab.research.google.com/github/mouraxy/data/blob/main/ipynb/BankCustomersChurn.ipynb\" target=\"_parent\"><img src=\"https://colab.research.google.com/assets/colab-badge.svg\" alt=\"Open In Colab\"/></a>"
      ]
    },
    {
      "cell_type": "markdown",
      "source": [
        "`Please upvote↑ if you find this helpful (suggestions are very welcome!)`\n",
        "\n",
        "<br>\n",
        "\n",
        "##### 1. Objective and description\n",
        "Preventing churn will allow the bank to develop retention programs to keep as many customers as possible. This will be a binary classification model, so I will create a machine learning algorithm to try to predict which bank customers will leave before they leave.\n",
        "\n",
        "The variable I must predict is \"Exited\" and has two values ​​0 for customers who did not leave the bank and 1 for customers who closed their accounts. The data also has a large class imbalance, as happens in the real world, since the number of customers who leave a bank in a short space of time is not usually that large in percentage terms, but I agree that the strong competition and digital facilities are accelerating this process. So, my first premise that I will use in this study is to give greater weight to the minority class (customers who churn) in the model training phase instead of using some artificial balancing method.\n",
        "\n",
        "My second premise is that as the cost of retaining a customer is much lower than losing one, measuring the model by accuracy may not be good. I prefer to miss false positives to cover as many customers as possible who will leave. So I'm going to use the Recall score since the positive class is what matters here.\n",
        "\n",
        "Each row represents a bank client and each column the information described in the metadata dictionary below:\n",
        "\n",
        "* RowNumber: Row Numbers from 1 to 10000.\n",
        "* CustomerId: A unique ID that identifies each customer.\n",
        "* Surname: The customer’s surname.\n",
        "* CreditScore: A credit score is a number between 300–850 that depicts a\n",
        "  consumer's creditworthiness.\n",
        "* Geography: The country from which the customer belongs to.\n",
        "* Gender: The customer’s gender: Male, Female\n",
        "* Age: The customer’s current age, in years, at the time of being customer.\n",
        "* Tenure: The number of years for which the customer has been with the bank.\n",
        "* Balance: Bank balance of the customer.\n",
        "* NumOfProducts: the number of bank products the customer is utilising.\n",
        "* HasCrCard: The number of credit cards given to the customer by the bank.\n",
        "* IsActiveMember: Binary Flag for indicating if the client is active or not with the bank before the moment where the client exits the company (recorded in the variable \"exited\")\n",
        "* Exited: Binary flag 1 if the customer closed account with bank and 0 if the customer is retained\n",
        "\n",
        "<br>"
      ],
      "metadata": {
        "id": "cIKC4wmo_83X"
      }
    },
    {
      "cell_type": "code",
      "source": [
        "#We trust in God; all others bring me data."
      ],
      "metadata": {
        "id": "RbJyAJeTIZzH"
      },
      "execution_count": 1,
      "outputs": []
    },
    {
      "cell_type": "markdown",
      "source": [
        "<br>\n",
        "\n",
        "##### 2. Importing libraries\n",
        "Preparing the development environment. This is common practice when starting Python scripts and notebooks to ensure that all the necessary dependencies (features that other people have already written) are available."
      ],
      "metadata": {
        "id": "5F4yrnNACfXo"
      }
    },
    {
      "cell_type": "code",
      "execution_count": 2,
      "metadata": {
        "id": "humekQ0N34J2"
      },
      "outputs": [],
      "source": [
        "!wget -q https://raw.githubusercontent.com/mouraxy/data/main/utils.py"
      ]
    },
    {
      "cell_type": "code",
      "source": [
        "# ignore console warnings\n",
        "import warnings\n",
        "warnings.filterwarnings(\"ignore\")"
      ],
      "metadata": {
        "id": "wU33yyRjA-_c"
      },
      "execution_count": 3,
      "outputs": []
    },
    {
      "cell_type": "code",
      "source": [
        "# github functions\n",
        "from utils import FormatTable\n",
        "from utils import GetMetadata\n",
        "from utils import ShowDuplicates\n",
        "from utils import ShowTopValues\n",
        "from utils import ShowOutliers\n",
        "from utils import CountCorrelatedColumns\n",
        "from utils import CrossValidation\n",
        "from utils import FindBestParameters"
      ],
      "metadata": {
        "id": "dYE3cWp-AnHf"
      },
      "execution_count": 4,
      "outputs": []
    },
    {
      "cell_type": "code",
      "source": [
        "# data libraries\n",
        "import numpy as np\n",
        "import pandas as pd\n",
        "import missingno as ms\n",
        "import seaborn as sns\n",
        "import matplotlib.pyplot as plt"
      ],
      "metadata": {
        "id": "a-qEekAKtpZS"
      },
      "execution_count": 5,
      "outputs": []
    },
    {
      "cell_type": "code",
      "source": [
        "# machine learning libraries\n",
        "import joblib\n",
        "from sklearn.pipeline import Pipeline\n",
        "from sklearn.utils import class_weight\n",
        "from sklearn.compose import ColumnTransformer\n",
        "from sklearn.tree import DecisionTreeClassifier\n",
        "from sklearn.ensemble import RandomForestClassifier\n",
        "from sklearn.model_selection import train_test_split\n",
        "from sklearn.preprocessing import LabelEncoder, MinMaxScaler\n",
        "from sklearn.metrics import recall_score, precision_score, confusion_matrix, mean_squared_error, precision_recall_curve, roc_curve, roc_auc_score"
      ],
      "metadata": {
        "id": "VjXG2ANotqNp"
      },
      "execution_count": 6,
      "outputs": []
    },
    {
      "cell_type": "code",
      "source": [
        "# plots configuration\n",
        "sns.set(style='whitegrid', rc={'grid.linewidth': 0.4})\n",
        "\n",
        "plt.rc('figure', figsize=(4, 3))\n",
        "plt.rc('xtick', labelsize=8)\n",
        "plt.rc('ytick', labelsize=8)"
      ],
      "metadata": {
        "id": "fBiP8X_ZxYnH"
      },
      "execution_count": 7,
      "outputs": []
    },
    {
      "cell_type": "markdown",
      "source": [
        "<br>\n",
        "\n",
        "##### 3. Loading data\n",
        "The initial step in ML algorithms consists of importing data from external sources into programming environments. It's the first step to building a model.\n",
        "\n"
      ],
      "metadata": {
        "id": "H6qwX91ECmY3"
      }
    },
    {
      "cell_type": "code",
      "source": [
        "# connects to the database\n",
        "UrlTrain = 'https://raw.githubusercontent.com/mouraxy/data/main/raw/BankCustomersTrain.csv'"
      ],
      "metadata": {
        "id": "YPF8sNhXAn4f"
      },
      "execution_count": 8,
      "outputs": []
    },
    {
      "cell_type": "code",
      "source": [
        "# read the database\n",
        "RawTrainData = pd.read_csv(UrlTrain)"
      ],
      "metadata": {
        "id": "NLvwFzihBB3Y"
      },
      "execution_count": 9,
      "outputs": []
    },
    {
      "cell_type": "code",
      "source": [
        "RawTrainData.head(3)"
      ],
      "metadata": {
        "colab": {
          "base_uri": "https://localhost:8080/",
          "height": 144
        },
        "id": "qOCue_FK_UKm",
        "outputId": "cfde0de5-e86b-45b0-dfa6-9c643f2ce49f"
      },
      "execution_count": 10,
      "outputs": [
        {
          "output_type": "execute_result",
          "data": {
            "text/plain": [
              "   RowNumber  CustomerId   Surname  CreditScore Geography  Gender  Age  \\\n",
              "0       1628    15591932      Ford          680    France    Male   32   \n",
              "1       1629    15810347      Todd          662     Spain  Female   30   \n",
              "2       1630    15595303  Johnston          736   Germany    Male   46   \n",
              "\n",
              "   Tenure    Balance  NumOfProducts  HasCrCard  IsActiveMember  \\\n",
              "0       5   92961.61              1          1               0   \n",
              "1       9       0.00              2          0               1   \n",
              "2       5  130812.91              1          1               1   \n",
              "\n",
              "   EstimatedSalary  Exited  \n",
              "0        116957.60       0  \n",
              "1        157884.83       0  \n",
              "2         77981.54       1  "
            ],
            "text/html": [
              "\n",
              "  <div id=\"df-841d5340-913d-4ac5-8adb-9c86daf07ab0\" class=\"colab-df-container\">\n",
              "    <div>\n",
              "<style scoped>\n",
              "    .dataframe tbody tr th:only-of-type {\n",
              "        vertical-align: middle;\n",
              "    }\n",
              "\n",
              "    .dataframe tbody tr th {\n",
              "        vertical-align: top;\n",
              "    }\n",
              "\n",
              "    .dataframe thead th {\n",
              "        text-align: right;\n",
              "    }\n",
              "</style>\n",
              "<table border=\"1\" class=\"dataframe\">\n",
              "  <thead>\n",
              "    <tr style=\"text-align: right;\">\n",
              "      <th></th>\n",
              "      <th>RowNumber</th>\n",
              "      <th>CustomerId</th>\n",
              "      <th>Surname</th>\n",
              "      <th>CreditScore</th>\n",
              "      <th>Geography</th>\n",
              "      <th>Gender</th>\n",
              "      <th>Age</th>\n",
              "      <th>Tenure</th>\n",
              "      <th>Balance</th>\n",
              "      <th>NumOfProducts</th>\n",
              "      <th>HasCrCard</th>\n",
              "      <th>IsActiveMember</th>\n",
              "      <th>EstimatedSalary</th>\n",
              "      <th>Exited</th>\n",
              "    </tr>\n",
              "  </thead>\n",
              "  <tbody>\n",
              "    <tr>\n",
              "      <th>0</th>\n",
              "      <td>1628</td>\n",
              "      <td>15591932</td>\n",
              "      <td>Ford</td>\n",
              "      <td>680</td>\n",
              "      <td>France</td>\n",
              "      <td>Male</td>\n",
              "      <td>32</td>\n",
              "      <td>5</td>\n",
              "      <td>92961.61</td>\n",
              "      <td>1</td>\n",
              "      <td>1</td>\n",
              "      <td>0</td>\n",
              "      <td>116957.60</td>\n",
              "      <td>0</td>\n",
              "    </tr>\n",
              "    <tr>\n",
              "      <th>1</th>\n",
              "      <td>1629</td>\n",
              "      <td>15810347</td>\n",
              "      <td>Todd</td>\n",
              "      <td>662</td>\n",
              "      <td>Spain</td>\n",
              "      <td>Female</td>\n",
              "      <td>30</td>\n",
              "      <td>9</td>\n",
              "      <td>0.00</td>\n",
              "      <td>2</td>\n",
              "      <td>0</td>\n",
              "      <td>1</td>\n",
              "      <td>157884.83</td>\n",
              "      <td>0</td>\n",
              "    </tr>\n",
              "    <tr>\n",
              "      <th>2</th>\n",
              "      <td>1630</td>\n",
              "      <td>15595303</td>\n",
              "      <td>Johnston</td>\n",
              "      <td>736</td>\n",
              "      <td>Germany</td>\n",
              "      <td>Male</td>\n",
              "      <td>46</td>\n",
              "      <td>5</td>\n",
              "      <td>130812.91</td>\n",
              "      <td>1</td>\n",
              "      <td>1</td>\n",
              "      <td>1</td>\n",
              "      <td>77981.54</td>\n",
              "      <td>1</td>\n",
              "    </tr>\n",
              "  </tbody>\n",
              "</table>\n",
              "</div>\n",
              "    <div class=\"colab-df-buttons\">\n",
              "\n",
              "  <div class=\"colab-df-container\">\n",
              "    <button class=\"colab-df-convert\" onclick=\"convertToInteractive('df-841d5340-913d-4ac5-8adb-9c86daf07ab0')\"\n",
              "            title=\"Convert this dataframe to an interactive table.\"\n",
              "            style=\"display:none;\">\n",
              "\n",
              "  <svg xmlns=\"http://www.w3.org/2000/svg\" height=\"24px\" viewBox=\"0 -960 960 960\">\n",
              "    <path d=\"M120-120v-720h720v720H120Zm60-500h600v-160H180v160Zm220 220h160v-160H400v160Zm0 220h160v-160H400v160ZM180-400h160v-160H180v160Zm440 0h160v-160H620v160ZM180-180h160v-160H180v160Zm440 0h160v-160H620v160Z\"/>\n",
              "  </svg>\n",
              "    </button>\n",
              "\n",
              "  <style>\n",
              "    .colab-df-container {\n",
              "      display:flex;\n",
              "      gap: 12px;\n",
              "    }\n",
              "\n",
              "    .colab-df-convert {\n",
              "      background-color: #E8F0FE;\n",
              "      border: none;\n",
              "      border-radius: 50%;\n",
              "      cursor: pointer;\n",
              "      display: none;\n",
              "      fill: #1967D2;\n",
              "      height: 32px;\n",
              "      padding: 0 0 0 0;\n",
              "      width: 32px;\n",
              "    }\n",
              "\n",
              "    .colab-df-convert:hover {\n",
              "      background-color: #E2EBFA;\n",
              "      box-shadow: 0px 1px 2px rgba(60, 64, 67, 0.3), 0px 1px 3px 1px rgba(60, 64, 67, 0.15);\n",
              "      fill: #174EA6;\n",
              "    }\n",
              "\n",
              "    .colab-df-buttons div {\n",
              "      margin-bottom: 4px;\n",
              "    }\n",
              "\n",
              "    [theme=dark] .colab-df-convert {\n",
              "      background-color: #3B4455;\n",
              "      fill: #D2E3FC;\n",
              "    }\n",
              "\n",
              "    [theme=dark] .colab-df-convert:hover {\n",
              "      background-color: #434B5C;\n",
              "      box-shadow: 0px 1px 3px 1px rgba(0, 0, 0, 0.15);\n",
              "      filter: drop-shadow(0px 1px 2px rgba(0, 0, 0, 0.3));\n",
              "      fill: #FFFFFF;\n",
              "    }\n",
              "  </style>\n",
              "\n",
              "    <script>\n",
              "      const buttonEl =\n",
              "        document.querySelector('#df-841d5340-913d-4ac5-8adb-9c86daf07ab0 button.colab-df-convert');\n",
              "      buttonEl.style.display =\n",
              "        google.colab.kernel.accessAllowed ? 'block' : 'none';\n",
              "\n",
              "      async function convertToInteractive(key) {\n",
              "        const element = document.querySelector('#df-841d5340-913d-4ac5-8adb-9c86daf07ab0');\n",
              "        const dataTable =\n",
              "          await google.colab.kernel.invokeFunction('convertToInteractive',\n",
              "                                                    [key], {});\n",
              "        if (!dataTable) return;\n",
              "\n",
              "        const docLinkHtml = 'Like what you see? Visit the ' +\n",
              "          '<a target=\"_blank\" href=https://colab.research.google.com/notebooks/data_table.ipynb>data table notebook</a>'\n",
              "          + ' to learn more about interactive tables.';\n",
              "        element.innerHTML = '';\n",
              "        dataTable['output_type'] = 'display_data';\n",
              "        await google.colab.output.renderOutput(dataTable, element);\n",
              "        const docLink = document.createElement('div');\n",
              "        docLink.innerHTML = docLinkHtml;\n",
              "        element.appendChild(docLink);\n",
              "      }\n",
              "    </script>\n",
              "  </div>\n",
              "\n",
              "\n",
              "<div id=\"df-8ed648df-1b33-49bc-be65-cb5b7b529eb0\">\n",
              "  <button class=\"colab-df-quickchart\" onclick=\"quickchart('df-8ed648df-1b33-49bc-be65-cb5b7b529eb0')\"\n",
              "            title=\"Suggest charts\"\n",
              "            style=\"display:none;\">\n",
              "\n",
              "<svg xmlns=\"http://www.w3.org/2000/svg\" height=\"24px\"viewBox=\"0 0 24 24\"\n",
              "     width=\"24px\">\n",
              "    <g>\n",
              "        <path d=\"M19 3H5c-1.1 0-2 .9-2 2v14c0 1.1.9 2 2 2h14c1.1 0 2-.9 2-2V5c0-1.1-.9-2-2-2zM9 17H7v-7h2v7zm4 0h-2V7h2v10zm4 0h-2v-4h2v4z\"/>\n",
              "    </g>\n",
              "</svg>\n",
              "  </button>\n",
              "\n",
              "<style>\n",
              "  .colab-df-quickchart {\n",
              "      --bg-color: #E8F0FE;\n",
              "      --fill-color: #1967D2;\n",
              "      --hover-bg-color: #E2EBFA;\n",
              "      --hover-fill-color: #174EA6;\n",
              "      --disabled-fill-color: #AAA;\n",
              "      --disabled-bg-color: #DDD;\n",
              "  }\n",
              "\n",
              "  [theme=dark] .colab-df-quickchart {\n",
              "      --bg-color: #3B4455;\n",
              "      --fill-color: #D2E3FC;\n",
              "      --hover-bg-color: #434B5C;\n",
              "      --hover-fill-color: #FFFFFF;\n",
              "      --disabled-bg-color: #3B4455;\n",
              "      --disabled-fill-color: #666;\n",
              "  }\n",
              "\n",
              "  .colab-df-quickchart {\n",
              "    background-color: var(--bg-color);\n",
              "    border: none;\n",
              "    border-radius: 50%;\n",
              "    cursor: pointer;\n",
              "    display: none;\n",
              "    fill: var(--fill-color);\n",
              "    height: 32px;\n",
              "    padding: 0;\n",
              "    width: 32px;\n",
              "  }\n",
              "\n",
              "  .colab-df-quickchart:hover {\n",
              "    background-color: var(--hover-bg-color);\n",
              "    box-shadow: 0 1px 2px rgba(60, 64, 67, 0.3), 0 1px 3px 1px rgba(60, 64, 67, 0.15);\n",
              "    fill: var(--button-hover-fill-color);\n",
              "  }\n",
              "\n",
              "  .colab-df-quickchart-complete:disabled,\n",
              "  .colab-df-quickchart-complete:disabled:hover {\n",
              "    background-color: var(--disabled-bg-color);\n",
              "    fill: var(--disabled-fill-color);\n",
              "    box-shadow: none;\n",
              "  }\n",
              "\n",
              "  .colab-df-spinner {\n",
              "    border: 2px solid var(--fill-color);\n",
              "    border-color: transparent;\n",
              "    border-bottom-color: var(--fill-color);\n",
              "    animation:\n",
              "      spin 1s steps(1) infinite;\n",
              "  }\n",
              "\n",
              "  @keyframes spin {\n",
              "    0% {\n",
              "      border-color: transparent;\n",
              "      border-bottom-color: var(--fill-color);\n",
              "      border-left-color: var(--fill-color);\n",
              "    }\n",
              "    20% {\n",
              "      border-color: transparent;\n",
              "      border-left-color: var(--fill-color);\n",
              "      border-top-color: var(--fill-color);\n",
              "    }\n",
              "    30% {\n",
              "      border-color: transparent;\n",
              "      border-left-color: var(--fill-color);\n",
              "      border-top-color: var(--fill-color);\n",
              "      border-right-color: var(--fill-color);\n",
              "    }\n",
              "    40% {\n",
              "      border-color: transparent;\n",
              "      border-right-color: var(--fill-color);\n",
              "      border-top-color: var(--fill-color);\n",
              "    }\n",
              "    60% {\n",
              "      border-color: transparent;\n",
              "      border-right-color: var(--fill-color);\n",
              "    }\n",
              "    80% {\n",
              "      border-color: transparent;\n",
              "      border-right-color: var(--fill-color);\n",
              "      border-bottom-color: var(--fill-color);\n",
              "    }\n",
              "    90% {\n",
              "      border-color: transparent;\n",
              "      border-bottom-color: var(--fill-color);\n",
              "    }\n",
              "  }\n",
              "</style>\n",
              "\n",
              "  <script>\n",
              "    async function quickchart(key) {\n",
              "      const quickchartButtonEl =\n",
              "        document.querySelector('#' + key + ' button');\n",
              "      quickchartButtonEl.disabled = true;  // To prevent multiple clicks.\n",
              "      quickchartButtonEl.classList.add('colab-df-spinner');\n",
              "      try {\n",
              "        const charts = await google.colab.kernel.invokeFunction(\n",
              "            'suggestCharts', [key], {});\n",
              "      } catch (error) {\n",
              "        console.error('Error during call to suggestCharts:', error);\n",
              "      }\n",
              "      quickchartButtonEl.classList.remove('colab-df-spinner');\n",
              "      quickchartButtonEl.classList.add('colab-df-quickchart-complete');\n",
              "    }\n",
              "    (() => {\n",
              "      let quickchartButtonEl =\n",
              "        document.querySelector('#df-8ed648df-1b33-49bc-be65-cb5b7b529eb0 button');\n",
              "      quickchartButtonEl.style.display =\n",
              "        google.colab.kernel.accessAllowed ? 'block' : 'none';\n",
              "    })();\n",
              "  </script>\n",
              "</div>\n",
              "\n",
              "    </div>\n",
              "  </div>\n"
            ],
            "application/vnd.google.colaboratory.intrinsic+json": {
              "type": "dataframe",
              "variable_name": "RawTrainData",
              "summary": "{\n  \"name\": \"RawTrainData\",\n  \"rows\": 8373,\n  \"fields\": [\n    {\n      \"column\": \"RowNumber\",\n      \"properties\": {\n        \"dtype\": \"number\",\n        \"std\": 2417,\n        \"min\": 1628,\n        \"max\": 10000,\n        \"num_unique_values\": 8373,\n        \"samples\": [\n          9927,\n          3357,\n          8637\n        ],\n        \"semantic_type\": \"\",\n        \"description\": \"\"\n      }\n    },\n    {\n      \"column\": \"CustomerId\",\n      \"properties\": {\n        \"dtype\": \"number\",\n        \"std\": 71952,\n        \"min\": 15565706,\n        \"max\": 15815690,\n        \"num_unique_values\": 8373,\n        \"samples\": [\n          15603674,\n          15713621,\n          15582892\n        ],\n        \"semantic_type\": \"\",\n        \"description\": \"\"\n      }\n    },\n    {\n      \"column\": \"Surname\",\n      \"properties\": {\n        \"dtype\": \"category\",\n        \"num_unique_values\": 2640,\n        \"samples\": [\n          \"Levan\",\n          \"Hudson\",\n          \"O'Donnell\"\n        ],\n        \"semantic_type\": \"\",\n        \"description\": \"\"\n      }\n    },\n    {\n      \"column\": \"CreditScore\",\n      \"properties\": {\n        \"dtype\": \"number\",\n        \"std\": 96,\n        \"min\": 350,\n        \"max\": 850,\n        \"num_unique_values\": 454,\n        \"samples\": [\n          664,\n          606,\n          551\n        ],\n        \"semantic_type\": \"\",\n        \"description\": \"\"\n      }\n    },\n    {\n      \"column\": \"Geography\",\n      \"properties\": {\n        \"dtype\": \"category\",\n        \"num_unique_values\": 3,\n        \"samples\": [\n          \"France\",\n          \"Spain\",\n          \"Germany\"\n        ],\n        \"semantic_type\": \"\",\n        \"description\": \"\"\n      }\n    },\n    {\n      \"column\": \"Gender\",\n      \"properties\": {\n        \"dtype\": \"category\",\n        \"num_unique_values\": 2,\n        \"samples\": [\n          \"Female\",\n          \"Male\"\n        ],\n        \"semantic_type\": \"\",\n        \"description\": \"\"\n      }\n    },\n    {\n      \"column\": \"Age\",\n      \"properties\": {\n        \"dtype\": \"number\",\n        \"std\": 10,\n        \"min\": 18,\n        \"max\": 92,\n        \"num_unique_values\": 69,\n        \"samples\": [\n          52,\n          32\n        ],\n        \"semantic_type\": \"\",\n        \"description\": \"\"\n      }\n    },\n    {\n      \"column\": \"Tenure\",\n      \"properties\": {\n        \"dtype\": \"number\",\n        \"std\": 2,\n        \"min\": 0,\n        \"max\": 10,\n        \"num_unique_values\": 11,\n        \"samples\": [\n          7,\n          5\n        ],\n        \"semantic_type\": \"\",\n        \"description\": \"\"\n      }\n    },\n    {\n      \"column\": \"Balance\",\n      \"properties\": {\n        \"dtype\": \"number\",\n        \"std\": 62356.170102222844,\n        \"min\": 0.0,\n        \"max\": 250898.09,\n        \"num_unique_values\": 5329,\n        \"samples\": [\n          98148.61,\n          108513.25\n        ],\n        \"semantic_type\": \"\",\n        \"description\": \"\"\n      }\n    },\n    {\n      \"column\": \"NumOfProducts\",\n      \"properties\": {\n        \"dtype\": \"number\",\n        \"std\": 0,\n        \"min\": 1,\n        \"max\": 4,\n        \"num_unique_values\": 4,\n        \"samples\": [\n          2,\n          4\n        ],\n        \"semantic_type\": \"\",\n        \"description\": \"\"\n      }\n    },\n    {\n      \"column\": \"HasCrCard\",\n      \"properties\": {\n        \"dtype\": \"number\",\n        \"std\": 0,\n        \"min\": 0,\n        \"max\": 1,\n        \"num_unique_values\": 2,\n        \"samples\": [\n          0,\n          1\n        ],\n        \"semantic_type\": \"\",\n        \"description\": \"\"\n      }\n    },\n    {\n      \"column\": \"IsActiveMember\",\n      \"properties\": {\n        \"dtype\": \"number\",\n        \"std\": 0,\n        \"min\": 0,\n        \"max\": 1,\n        \"num_unique_values\": 2,\n        \"samples\": [\n          1,\n          0\n        ],\n        \"semantic_type\": \"\",\n        \"description\": \"\"\n      }\n    },\n    {\n      \"column\": \"EstimatedSalary\",\n      \"properties\": {\n        \"dtype\": \"number\",\n        \"std\": 57520.499449198935,\n        \"min\": 11.58,\n        \"max\": 199992.48,\n        \"num_unique_values\": 8372,\n        \"samples\": [\n          149370.93,\n          198064.52\n        ],\n        \"semantic_type\": \"\",\n        \"description\": \"\"\n      }\n    },\n    {\n      \"column\": \"Exited\",\n      \"properties\": {\n        \"dtype\": \"number\",\n        \"std\": 0,\n        \"min\": 0,\n        \"max\": 1,\n        \"num_unique_values\": 2,\n        \"samples\": [\n          1,\n          0\n        ],\n        \"semantic_type\": \"\",\n        \"description\": \"\"\n      }\n    }\n  ]\n}"
            }
          },
          "metadata": {},
          "execution_count": 10
        }
      ]
    },
    {
      "cell_type": "markdown",
      "source": [
        "<br>\n",
        "\n",
        "##### 4. Exploratory analysis\n",
        "From here, i will try to understand the object of study. So, let's explore the characteristics of our data!"
      ],
      "metadata": {
        "id": "-iJG-6UwC3Uw"
      }
    },
    {
      "cell_type": "code",
      "source": [
        "RowsRawData = len(RawTrainData)\n",
        "ColsRawData = RawTrainData.shape[1]"
      ],
      "metadata": {
        "id": "Xp2VAnIoCVbg"
      },
      "execution_count": 11,
      "outputs": []
    },
    {
      "cell_type": "code",
      "source": [
        "print(f'Number of rows: {RowsRawData}')\n",
        "print(f'Number of columns: {ColsRawData}')"
      ],
      "metadata": {
        "colab": {
          "base_uri": "https://localhost:8080/"
        },
        "id": "QhkiXgyFDKWQ",
        "outputId": "6a9cb825-f462-4715-c1cb-4fe85d5cafb7"
      },
      "execution_count": 12,
      "outputs": [
        {
          "output_type": "stream",
          "name": "stdout",
          "text": [
            "Number of rows: 8373\n",
            "Number of columns: 14\n"
          ]
        }
      ]
    },
    {
      "cell_type": "code",
      "source": [
        "print(FormatTable(GetMetadata(RawTrainData), fmt='psql'))"
      ],
      "metadata": {
        "colab": {
          "base_uri": "https://localhost:8080/"
        },
        "id": "cfT9jmC4DNCf",
        "outputId": "5f5ee8c8-cbcc-4620-99d1-ccebd0f34133"
      },
      "execution_count": 13,
      "outputs": [
        {
          "output_type": "stream",
          "name": "stdout",
          "text": [
            "+-----------------+--------------+---------+-------------+-------------+-------------+\n",
            "| Variable        | Data Types   | Nulls   | Minimum     | Maximum     | Mean        |\n",
            "|-----------------+--------------+---------+-------------+-------------+-------------|\n",
            "| RowNumber       | int64        | 0       | 1628.00     | 10000.00    | 5814.00     |\n",
            "| CustomerId      | int64        | 0       | 15565706.00 | 15815690.00 | 15691057.20 |\n",
            "| Surname         | object       | 0       | nan         | nan         | nan         |\n",
            "| CreditScore     | int64        | 0       | 350.00      | 850.00      | 650.78      |\n",
            "| Geography       | object       | 0       | nan         | nan         | nan         |\n",
            "| Gender          | object       | 0       | nan         | nan         | nan         |\n",
            "| Age             | int64        | 0       | 18.00       | 92.00       | 38.94       |\n",
            "| Tenure          | int64        | 0       | 0.00        | 10.00       | 5.00        |\n",
            "| Balance         | float64      | 0       | 0.00        | 250898.09   | 76228.21    |\n",
            "| NumOfProducts   | int64        | 0       | 1.00        | 4.00        | 1.53        |\n",
            "| HasCrCard       | int64        | 0       | 0.00        | 1.00        | 0.70        |\n",
            "| IsActiveMember  | int64        | 0       | 0.00        | 1.00        | 0.52        |\n",
            "| EstimatedSalary | float64      | 0       | 11.58       | 199992.48   | 100396.33   |\n",
            "| Exited          | int64        | 0       | 0.00        | 1.00        | 0.20        |\n",
            "+-----------------+--------------+---------+-------------+-------------+-------------+\n"
          ]
        }
      ]
    },
    {
      "cell_type": "markdown",
      "source": [
        "<br>\n",
        "\n",
        "##### 4.1 Duplicates\n",
        "\n",
        "Duplicate data affects the integrity of the data, compromising its accuracy and requiring a large storage allocation."
      ],
      "metadata": {
        "id": "T1n04pR8En0w"
      }
    },
    {
      "cell_type": "code",
      "source": [
        "ShowDuplicates(RawTrainData)"
      ],
      "metadata": {
        "colab": {
          "base_uri": "https://localhost:8080/"
        },
        "id": "2mKUN_pEEnr_",
        "outputId": "65bd0661-a7ff-422f-e009-3b8b48ce4444"
      },
      "execution_count": 14,
      "outputs": [
        {
          "output_type": "stream",
          "name": "stdout",
          "text": [
            "\n",
            "\n",
            " DataFrame without duplicates\n"
          ]
        }
      ]
    },
    {
      "cell_type": "markdown",
      "source": [
        "##### 4.2 Distribution of data\n",
        "\n",
        "The distribution of the data in each variable identifies\n",
        "which variables may be relevant. With this approach it will not be necessary to write extensive lines of code with visualization libraries."
      ],
      "metadata": {
        "id": "mYINVFvQEzSH"
      }
    },
    {
      "cell_type": "code",
      "source": [
        "print(FormatTable(ShowTopValues(RawTrainData), fmt='psql'))"
      ],
      "metadata": {
        "colab": {
          "base_uri": "https://localhost:8080/"
        },
        "id": "Y_lL3HAXFGbH",
        "outputId": "19443235-3c64-4d20-bf10-7ac624df2a70"
      },
      "execution_count": 15,
      "outputs": [
        {
          "output_type": "stream",
          "name": "stdout",
          "text": [
            "+-----------------+----------+-----------+----------+\n",
            "| Var             | Top1     | Top2      | Others   |\n",
            "|-----------------+----------+-----------+----------|\n",
            "| RowNumber       | 1628     | 7221      | +8371    |\n",
            "| CustomerId      | 15591932 | 15706637  | +8371    |\n",
            "| Surname         | Smith    | Brown     | +2638    |\n",
            "| CreditScore     | 850      | 678       | +452     |\n",
            "| Geography       | France   | Germany   | +1       |\n",
            "| Gender          | Male     | Female    | +0       |\n",
            "| Age             | 37       | 35        | +67      |\n",
            "| Tenure          | 2        | 1         | +9       |\n",
            "| Balance         | 0.0      | 105473.74 | +5327    |\n",
            "| NumOfProducts   | 1        | 2         | +2       |\n",
            "| HasCrCard       | 1        | 0         | +0       |\n",
            "| IsActiveMember  | 1        | 0         | +0       |\n",
            "| EstimatedSalary | 24924.92 | 116957.6  | +8370    |\n",
            "| Exited          | 0        | 1         | +0       |\n",
            "+-----------------+----------+-----------+----------+\n"
          ]
        }
      ]
    },
    {
      "cell_type": "markdown",
      "source": [
        "<br>\n",
        "\n",
        "##### 4.2.1 Target variable\n",
        "The target variable is what we should predict in a statistical or machine learning model. In other words, anticipating your results is the goal!"
      ],
      "metadata": {
        "id": "l0a42uofFR_f"
      }
    },
    {
      "cell_type": "code",
      "source": [
        "target = 'Exited'"
      ],
      "metadata": {
        "id": "DMKZ4ZHMFZ5e"
      },
      "execution_count": 16,
      "outputs": []
    },
    {
      "cell_type": "code",
      "source": [
        "TargetValues = RawTrainData[target].value_counts()"
      ],
      "metadata": {
        "id": "6dX1GVUXGIJf"
      },
      "execution_count": 17,
      "outputs": []
    },
    {
      "cell_type": "code",
      "source": [
        "sns.lineplot(data=TargetValues)\n",
        "plt.ylabel('');"
      ],
      "metadata": {
        "colab": {
          "base_uri": "https://localhost:8080/",
          "height": 314
        },
        "id": "dh6TG4RE4jyW",
        "outputId": "dd11ff28-5ee1-48fd-ad39-c868a901b0e6"
      },
      "execution_count": 18,
      "outputs": [
        {
          "output_type": "display_data",
          "data": {
            "text/plain": [
              "<Figure size 400x300 with 1 Axes>"
            ],
            "image/png": "[encoded data removed]"
          },
          "metadata": {}
        }
      ]
    },
    {
      "cell_type": "markdown",
      "source": [
        "##### 4.3 Exploratory charts\n",
        "\n",
        "I will choose some columns that I consider most relevant and see how they change with different values ​​of the target variable. In the \"Age\" column, I'll also group your values ​​into an age range for easier viewing."
      ],
      "metadata": {
        "id": "Otp12Y7xXIuw"
      }
    },
    {
      "cell_type": "code",
      "source": [
        "AgeGroups = [0, 19, 24, 39, 100]\n",
        "Labels = ['Teenager', 'Young Adult', 'Adult', 'Older Adult']\n",
        "RawTrainData['AgeGroup'] = pd.cut(RawTrainData['Age'], bins=AgeGroups, labels=Labels, include_lowest=True)"
      ],
      "metadata": {
        "id": "UsR_DgUpUJW6"
      },
      "execution_count": 19,
      "outputs": []
    },
    {
      "cell_type": "code",
      "source": [
        "sns.countplot(x='AgeGroup', hue='Exited', data=RawTrainData)\n",
        "plt.show()"
      ],
      "metadata": {
        "colab": {
          "base_uri": "https://localhost:8080/",
          "height": 314
        },
        "id": "Bd8fad6XViMt",
        "outputId": "2a55fa35-9860-4e57-8328-4f4b83e9bcc6"
      },
      "execution_count": 20,
      "outputs": [
        {
          "output_type": "display_data",
          "data": {
            "text/plain": [
              "<Figure size 400x300 with 1 Axes>"
            ],
            "image/png": "[encoded data removed]"
          },
          "metadata": {}
        }
      ]
    },
    {
      "cell_type": "code",
      "source": [
        "RawTrainData.drop('AgeGroup', axis=1, inplace=True)"
      ],
      "metadata": {
        "id": "LhP8ugEGgvIW"
      },
      "execution_count": 21,
      "outputs": []
    },
    {
      "cell_type": "code",
      "source": [
        "sns.countplot(x='NumOfProducts', hue='Exited', data=RawTrainData)\n",
        "plt.show()"
      ],
      "metadata": {
        "colab": {
          "base_uri": "https://localhost:8080/",
          "height": 314
        },
        "id": "eD9QIpseTX9Y",
        "outputId": "7f9d4258-9c19-42e0-9088-242e52e4e5fa"
      },
      "execution_count": 22,
      "outputs": [
        {
          "output_type": "display_data",
          "data": {
            "text/plain": [
              "<Figure size 400x300 with 1 Axes>"
            ],
            "image/png": "[encoded data removed]"
          },
          "metadata": {}
        }
      ]
    },
    {
      "cell_type": "markdown",
      "source": [
        "##### 5. Data Preprocessing\n",
        "\n",
        "Now, i'm going to manipulate the raw data into a more favorable format. First, I'll remove all unwanted entries (empty rows and duplicates)."
      ],
      "metadata": {
        "id": "Qy2rfVBvFjKn"
      }
    },
    {
      "cell_type": "code",
      "source": [
        "df = RawTrainData.copy()"
      ],
      "metadata": {
        "id": "k6eUF5kQFwiW"
      },
      "execution_count": 23,
      "outputs": []
    },
    {
      "cell_type": "code",
      "source": [
        "ms.matrix(df, fontsize=8, labels=False, sparkline=False, figsize=(4, 3));"
      ],
      "metadata": {
        "colab": {
          "base_uri": "https://localhost:8080/",
          "height": 281
        },
        "id": "rcXPb6WTF1hW",
        "outputId": "4d758847-2ddb-48ab-adac-1dc6ea1ebd0d"
      },
      "execution_count": 24,
      "outputs": [
        {
          "output_type": "display_data",
          "data": {
            "text/plain": [
              "<Figure size 400x300 with 1 Axes>"
            ],
            "image/png": "[encoded data removed]"
          },
          "metadata": {}
        }
      ]
    },
    {
      "cell_type": "markdown",
      "source": [
        "##### 5.1 Categorical encoding\n",
        "The next step is transform each categorical variable. Each label will be mapped to an integer, making it easier to use these variables in algorithms that require numerical entries."
      ],
      "metadata": {
        "id": "49sXAq6zGAXI"
      }
    },
    {
      "cell_type": "code",
      "source": [
        "TextColumns = df.select_dtypes(include=['object', 'category']).columns"
      ],
      "metadata": {
        "id": "2vSQ2wRhGtqH"
      },
      "execution_count": 25,
      "outputs": []
    },
    {
      "cell_type": "code",
      "source": [
        "le = LabelEncoder()"
      ],
      "metadata": {
        "id": "oRFYUrL5CFAK"
      },
      "execution_count": 26,
      "outputs": []
    },
    {
      "cell_type": "code",
      "source": [
        "df[TextColumns] = df[TextColumns].apply(le.fit_transform)"
      ],
      "metadata": {
        "id": "3qca3h7yHTxm"
      },
      "execution_count": 27,
      "outputs": []
    },
    {
      "cell_type": "markdown",
      "source": [
        "##### 5.2 Correlation\n",
        "The correlation matrix is ​​a table that shows how variables are related to each other, ranging from -1 to 1. This visualization is essential to identify the most important characteristics of our data."
      ],
      "metadata": {
        "id": "p7Wz2ejLIAWW"
      }
    },
    {
      "cell_type": "code",
      "source": [
        "CorrMatrix = df.corr()"
      ],
      "metadata": {
        "id": "U9FTp1GrRDvG"
      },
      "execution_count": 28,
      "outputs": []
    },
    {
      "cell_type": "code",
      "source": [
        "sns.heatmap(CorrMatrix, cmap='binary');"
      ],
      "metadata": {
        "colab": {
          "base_uri": "https://localhost:8080/",
          "height": 376
        },
        "id": "ZHpWSaGiH9NG",
        "outputId": "6e986688-000d-4e27-e961-893701a07c4a"
      },
      "execution_count": 29,
      "outputs": [
        {
          "output_type": "display_data",
          "data": {
            "text/plain": [
              "<Figure size 400x300 with 2 Axes>"
            ],
            "image/png": "[encoded data removed]"
          },
          "metadata": {}
        }
      ]
    },
    {
      "cell_type": "code",
      "source": [
        "CorrMatrix[target].drop(target).sort_values().plot(kind = \"barh\");"
      ],
      "metadata": {
        "colab": {
          "base_uri": "https://localhost:8080/",
          "height": 291
        },
        "id": "tm-7xMBdlLpr",
        "outputId": "eff72997-f7bd-47ad-8f07-b625a43d33ba"
      },
      "execution_count": 30,
      "outputs": [
        {
          "output_type": "display_data",
          "data": {
            "text/plain": [
              "<Figure size 400x300 with 1 Axes>"
            ],
            "image/png": "[encoded data removed]"
          },
          "metadata": {}
        }
      ]
    },
    {
      "cell_type": "markdown",
      "source": [
        "##### 5.3 Feature engineering\n",
        "Next, i will reshape our table, selecting only the variables that are most relevant to the problem. I will also remove columns that are very similar to each other to avoid a problem called [multicollinearity](https://pt.wikipedia.org/wiki/Multicolinearidade)\n"
      ],
      "metadata": {
        "id": "O57dWYnFJVgX"
      }
    },
    {
      "cell_type": "code",
      "source": [
        "ColumnsToDrop = ['RowNumber', 'CustomerId', 'Surname', 'Gender', 'Tenure', 'HasCrCard']"
      ],
      "metadata": {
        "id": "CKAtuBlOyimv"
      },
      "execution_count": 31,
      "outputs": []
    },
    {
      "cell_type": "code",
      "source": [
        "df.drop(ColumnsToDrop, axis=1, inplace=True)"
      ],
      "metadata": {
        "id": "voOFgqyzCb_z"
      },
      "execution_count": 32,
      "outputs": []
    },
    {
      "cell_type": "code",
      "source": [
        "CountOfCorrelatedColumns = len(CountCorrelatedColumns(CorrMatrix))"
      ],
      "metadata": {
        "id": "DIuComocXd9l"
      },
      "execution_count": 33,
      "outputs": []
    },
    {
      "cell_type": "code",
      "source": [
        "print(f'Multicollinearity: {CountOfCorrelatedColumns}')"
      ],
      "metadata": {
        "colab": {
          "base_uri": "https://localhost:8080/"
        },
        "id": "BW3G5odTVkJm",
        "outputId": "4ab1714d-3071-4e6b-e412-ea92500ebd88"
      },
      "execution_count": 34,
      "outputs": [
        {
          "output_type": "stream",
          "name": "stdout",
          "text": [
            "Multicollinearity: 0\n"
          ]
        }
      ]
    },
    {
      "cell_type": "markdown",
      "source": [
        "##### 5.4 Outliers\n",
        "Let's identify the unusual values in the data set for each column."
      ],
      "metadata": {
        "id": "4ElWKrVNn-vb"
      }
    },
    {
      "cell_type": "code",
      "source": [
        "ShowOutliers(df)"
      ],
      "metadata": {
        "colab": {
          "base_uri": "https://localhost:8080/",
          "height": 372
        },
        "id": "yghaYmCPj7Ii",
        "outputId": "4e05ed8d-c6af-4856-8e48-2cdad57eb2c0"
      },
      "execution_count": 35,
      "outputs": [
        {
          "output_type": "display_data",
          "data": {
            "text/plain": [
              "<Figure size 400x300 with 1 Axes>"
            ],
            "image/png": "[encoded data removed]"
          },
          "metadata": {}
        }
      ]
    },
    {
      "cell_type": "markdown",
      "source": [
        "##### 5.5 Split the data into train and test sets (holdout)\n",
        "In this phase, I will separate the predictor variables from the target and also split the data into training and test sets."
      ],
      "metadata": {
        "id": "_9VrqytnstlA"
      }
    },
    {
      "cell_type": "code",
      "source": [
        "X = df.drop(target, axis=1)\n",
        "y = df[target]"
      ],
      "metadata": {
        "id": "Z4FRC9vFtLZj"
      },
      "execution_count": 36,
      "outputs": []
    },
    {
      "cell_type": "code",
      "source": [
        "X_train, X_test, y_train, y_test = train_test_split(X, y, stratify=y, test_size=0.2, random_state=42)"
      ],
      "metadata": {
        "id": "XLT7q2rNt6Xt"
      },
      "execution_count": 37,
      "outputs": []
    },
    {
      "cell_type": "markdown",
      "source": [
        "<br>\n",
        "\n",
        "##### 5.6 Feature scaling\n",
        "Here, I'll adjust the scale of the columns to a range of 0 to 1 with `'MinMaxScaler'`."
      ],
      "metadata": {
        "id": "4OQ69-Yju8_A"
      }
    },
    {
      "cell_type": "code",
      "source": [
        "scaler = MinMaxScaler()"
      ],
      "metadata": {
        "id": "_3Fc5Y6JvMZ4"
      },
      "execution_count": 38,
      "outputs": []
    },
    {
      "cell_type": "code",
      "source": [
        "X_train = scaler.fit_transform(X_train)\n",
        "X_test = scaler.transform(X_test)"
      ],
      "metadata": {
        "id": "zpjcf16CvPxw"
      },
      "execution_count": 39,
      "outputs": []
    },
    {
      "cell_type": "code",
      "source": [
        "dfMean = pd.DataFrame(X_train).mean()\n",
        "sns.lineplot(data=dfMean);"
      ],
      "metadata": {
        "colab": {
          "base_uri": "https://localhost:8080/",
          "height": 291
        },
        "id": "AYcQODAXPyRi",
        "outputId": "bfef1e29-acef-4c8a-9ea1-ea7a1b920dc0"
      },
      "execution_count": 40,
      "outputs": [
        {
          "output_type": "display_data",
          "data": {
            "text/plain": [
              "<Figure size 400x300 with 1 Axes>"
            ],
            "image/png": "[encoded data removed]"
          },
          "metadata": {}
        }
      ]
    },
    {
      "cell_type": "markdown",
      "source": [
        "<!--\n",
        "##### 5.7  Class balancing\n",
        "As the classes of the target variable are unbalanced, I will increase the number of lines in the minority class with the `'oversampling'` strategy.\n",
        "-->"
      ],
      "metadata": {
        "id": "roibWFP-wFyn"
      }
    },
    {
      "cell_type": "markdown",
      "source": [
        "<!--Let's remove the columns of \"rownumber\", \"customerid\", \"surname\" from the given dataset since they do NOT have any contribution to classification in our analysis\n",
        "\n",
        "\n",
        "Outliers: Identificados nas colunas **'Credit Score'**, **'Age'**,\n",
        "**'NumOfProducts'** e **'Exited'**, mas como não são falhas na entrada dos dados (visto no EDA), não os removi.\n",
        "\n",
        "It can be concluded that there has been weak correlations between the numerical features and the target variable. So, evenif we accept the level of 0.80 as criteria for multicollinearity, it can be concluded that there is no multi-colliniearity problem among the variables\". On the other hand it can be safely assumed that while our target variable of 'exited' demonstrates a slight negative correlation with the variables of \"creditscore\", \"tenure\", \"numberofproducts\" 'hascrcard' and 'isactivemember', it demonstrates slight positive correlation with the variables of 'age', 'balance' and 'estimatedsalary\"-->"
      ],
      "metadata": {
        "id": "KgKpy_IOqU3v"
      }
    },
    {
      "cell_type": "markdown",
      "source": [
        "##### 5.7 Class weight\n",
        "The target variable is unbalanced, so instead of using under- or over-sampling methods, i'm going to assign different weights to the classes, giving more importance to the customers who are going to leave.\n"
      ],
      "metadata": {
        "id": "ZHnBu9aukbxV"
      }
    },
    {
      "cell_type": "code",
      "source": [
        "ClassWeight = {0: 0.4, 1: 2.4}"
      ],
      "metadata": {
        "id": "DpDO-GiKZ51Y"
      },
      "execution_count": 41,
      "outputs": []
    },
    {
      "cell_type": "markdown",
      "source": [
        "<br>\n",
        "\n",
        "##### 6. Hyperparameter tuning\n",
        "Selecting the ideal hyperparameters for a machine learning model. Its objective is to improve performance."
      ],
      "metadata": {
        "id": "_aywtK0bI4Fe"
      }
    },
    {
      "cell_type": "code",
      "source": [
        "ModelsBasic= {\n",
        "    'RandomForest': RandomForestClassifier(random_state=42, class_weight=ClassWeight, max_depth=5, bootstrap=False),\n",
        "    'DecisionTree': DecisionTreeClassifier(random_state=42, class_weight=ClassWeight, max_depth=5)\n",
        "}"
      ],
      "metadata": {
        "id": "uWBmrPQintVl"
      },
      "execution_count": 42,
      "outputs": []
    },
    {
      "cell_type": "code",
      "source": [
        "RfModel = ModelsBasic['RandomForest']\n",
        "RfRandomSearch = FindBestParameters(RfModel, {}, X_train, y_train)"
      ],
      "metadata": {
        "id": "OxQzNzY5os22"
      },
      "execution_count": 43,
      "outputs": []
    },
    {
      "cell_type": "code",
      "source": [
        "DtModel = ModelsBasic['DecisionTree']\n",
        "DtRandomSearch = FindBestParameters(DtModel, {}, X_train, y_train)"
      ],
      "metadata": {
        "id": "0Hc7mweU3AT6"
      },
      "execution_count": 44,
      "outputs": []
    },
    {
      "cell_type": "markdown",
      "source": [
        "<br>\n",
        "\n",
        "##### 6.1 Cross validation\n",
        "Training the models and comparing their performances (recall) with cross validation in order to choose one of them for hyperparameter tuning."
      ],
      "metadata": {
        "id": "1zB_DOaHyoL_"
      }
    },
    {
      "cell_type": "code",
      "source": [
        "ModelsTunned = {\n",
        "    'RandomForestTunned': RfRandomSearch.best_estimator_,\n",
        "    'DecisionTreeTunned': DtRandomSearch.best_estimator_\n",
        "}"
      ],
      "metadata": {
        "id": "JMwKhPPsmQ95"
      },
      "execution_count": 45,
      "outputs": []
    },
    {
      "cell_type": "code",
      "source": [
        "PerfModels = CrossValidation(ModelsTunned, X_train, y_train, Metric='recall')\n",
        "PerfModelSorted = PerfModels.sort_values(by='recall')"
      ],
      "metadata": {
        "id": "gEDyqYPbdLxo"
      },
      "execution_count": 46,
      "outputs": []
    },
    {
      "cell_type": "code",
      "source": [
        "sns.lineplot(x='Model', y='recall', data=PerfModelSorted)\n",
        "plt.xlabel('')\n",
        "plt.ylabel('');"
      ],
      "metadata": {
        "colab": {
          "base_uri": "https://localhost:8080/",
          "height": 291
        },
        "id": "XOZtno1o7A4e",
        "outputId": "b1093006-62e4-4627-e499-de4b47a663a2"
      },
      "execution_count": 47,
      "outputs": [
        {
          "output_type": "display_data",
          "data": {
            "text/plain": [
              "<Figure size 400x300 with 1 Axes>"
            ],
            "image/png": "[encoded data removed]"
          },
          "metadata": {}
        }
      ]
    },
    {
      "cell_type": "markdown",
      "source": [
        "##### 6.2 Training\n",
        "The Random Forest is an ensemble model that combines multiple individual decision trees to create a more robust model. This ensemble method helps to reduce overfitting and improve the model's generalization capacity. On the other hand, decision trees are easier to understand how decisions are made based on customer characteristics. Both models also consider different relationships between variables to predict churn, but as Random Forest had a better recall, I'll choose it."
      ],
      "metadata": {
        "id": "qOOVDEJwye5V"
      }
    },
    {
      "cell_type": "code",
      "source": [
        "FinalModelTunned = ModelsTunned['RandomForestTunned']\n",
        "FinalModelTunned.fit(X_train, y_train);"
      ],
      "metadata": {
        "id": "7cTxQCOEud2_"
      },
      "execution_count": 48,
      "outputs": []
    },
    {
      "cell_type": "code",
      "source": [
        "TrainPred = FinalModelTunned.predict(X_train)\n",
        "TestPred = FinalModelTunned.predict(X_test)"
      ],
      "metadata": {
        "id": "bexnNoD4Weha"
      },
      "execution_count": 49,
      "outputs": []
    },
    {
      "cell_type": "markdown",
      "source": [
        "##### 6.3 Overfitting and underfitting\n",
        "When a machine learning model fits the training data very well but has difficulty predicting unseen data, the model is memorizing and not learning the patterns, which is an overfitting problem. Now, when a model is too simple to understand the patterns in the data, this is called underfitting and it seems that the model doesn't have either problem."
      ],
      "metadata": {
        "id": "UEOwOIQ5TupY"
      }
    },
    {
      "cell_type": "code",
      "source": [
        "RecallTrain = recall_score(y_train, TrainPred)\n",
        "RecallTest = recall_score(y_test, TestPred)"
      ],
      "metadata": {
        "id": "nO0R8PppTtu4"
      },
      "execution_count": 50,
      "outputs": []
    },
    {
      "cell_type": "code",
      "source": [
        "print('Recall/Train:' , RecallTrain)\n",
        "print('Recall/Test:', RecallTest)"
      ],
      "metadata": {
        "colab": {
          "base_uri": "https://localhost:8080/"
        },
        "id": "AQwpMZAeZud6",
        "outputId": "51df61c1-d64a-4c3f-ecb3-7b15c7f8f36d"
      },
      "execution_count": 51,
      "outputs": [
        {
          "output_type": "stream",
          "name": "stdout",
          "text": [
            "Recall/Train: 0.8649446494464945\n",
            "Recall/Test: 0.8584070796460177\n"
          ]
        }
      ]
    },
    {
      "cell_type": "code",
      "source": [
        "TrainError = mean_squared_error(y_train, TrainPred)\n",
        "TestError = mean_squared_error(y_test, TestPred)"
      ],
      "metadata": {
        "id": "s8sqowLdrSXv"
      },
      "execution_count": 52,
      "outputs": []
    },
    {
      "cell_type": "code",
      "source": [
        "print('Train error:', TrainError)\n",
        "print('Test error:', TestError)"
      ],
      "metadata": {
        "colab": {
          "base_uri": "https://localhost:8080/"
        },
        "id": "rSJK4U4CsAbs",
        "outputId": "f5b3ddae-bd83-42db-f17e-6de3f56b5687"
      },
      "execution_count": 53,
      "outputs": [
        {
          "output_type": "stream",
          "name": "stdout",
          "text": [
            "Train error: 0.3020304568527919\n",
            "Test error: 0.2764179104477612\n"
          ]
        }
      ]
    },
    {
      "cell_type": "markdown",
      "source": [
        "##### 6.4 Cofunsion Matrix\n",
        "Confusion matrix is a table used to evaluate the performance of a model, showing the count of true positives, true negatives, false positives and false negatives."
      ],
      "metadata": {
        "id": "qpkRzvWvNuH1"
      }
    },
    {
      "cell_type": "code",
      "source": [
        "ConfusionMatrix = confusion_matrix(y_test, TestPred)"
      ],
      "metadata": {
        "id": "-Enh5AmCFNQl"
      },
      "execution_count": 54,
      "outputs": []
    },
    {
      "cell_type": "code",
      "source": [
        "sns.heatmap(ConfusionMatrix, annot=True, fmt='d', cmap='Blues',cbar=False)\n",
        "plt.show()"
      ],
      "metadata": {
        "id": "av-WPBr-N2j9",
        "colab": {
          "base_uri": "https://localhost:8080/",
          "height": 291
        },
        "outputId": "5876cbc7-a0af-471c-bb10-0344af86cd72"
      },
      "execution_count": 55,
      "outputs": [
        {
          "output_type": "display_data",
          "data": {
            "text/plain": [
              "<Figure size 400x300 with 1 Axes>"
            ],
            "image/png": "[encoded data removed]"
          },
          "metadata": {}
        }
      ]
    },
    {
      "cell_type": "markdown",
      "source": [
        "##### 6.5 Tradeoff recall/precision\n",
        "\n",
        "When the probability of a prediction is greater than 0.5, the instance is classified as positive, if not, it is classified as negative.\n",
        "\n",
        "So, if my priority is to find customers who will leave in the future, I could lower the threshold to maximize recall, even if I had to sacrifice the precision of my model.\n",
        "\n",
        "This could be my decision, because the cost of losing a customer is much higher than the cost of retaining a customer who wasn't really thinking about canceling."
      ],
      "metadata": {
        "id": "boyYyhBjT3ug"
      }
    },
    {
      "cell_type": "code",
      "source": [
        "Proba = FinalModelTunned.predict_proba(X_test)\n",
        "Precision, Recall, Threshold = precision_recall_curve(y_test, Proba[:, 1])"
      ],
      "metadata": {
        "id": "tY6mEad3xBNH"
      },
      "execution_count": 56,
      "outputs": []
    },
    {
      "cell_type": "code",
      "source": [
        "plt.plot(Threshold, Precision[:-1], 'b-', label='Precision')\n",
        "plt.plot(Threshold, Recall[:-1], 'r-', label='Recall')\n",
        "plt.legend(loc='lower left', fontsize='small', frameon=False);"
      ],
      "metadata": {
        "colab": {
          "base_uri": "https://localhost:8080/",
          "height": 291
        },
        "id": "OQOUpuA_w7ro",
        "outputId": "fd224fbb-85d0-4e7a-f8a6-59205035a7dc"
      },
      "execution_count": 57,
      "outputs": [
        {
          "output_type": "display_data",
          "data": {
            "text/plain": [
              "<Figure size 400x300 with 1 Axes>"
            ],
            "image/png": "[encoded data removed]"
          },
          "metadata": {}
        }
      ]
    },
    {
      "cell_type": "markdown",
      "source": [
        "##### 6.6 ROC and AUC\n",
        "Used to measure the performance of binary classification models, the ROC is a graphical representation of the model's performance, while the AUC quantifies it."
      ],
      "metadata": {
        "id": "eG217TzBXJA4"
      }
    },
    {
      "cell_type": "code",
      "source": [
        "Fpr, Tpr, _ = roc_curve(y_test, Proba[:, 1])\n",
        "RocAuc = roc_auc_score(y_test, Proba[:, 1])"
      ],
      "metadata": {
        "id": "LJAtJ0EgWzRX"
      },
      "execution_count": 58,
      "outputs": []
    },
    {
      "cell_type": "code",
      "source": [
        "plt.plot(Fpr, Tpr)\n",
        "plt.plot([0, 1], [0, 1], linestyle='--')\n",
        "plt.show()"
      ],
      "metadata": {
        "colab": {
          "base_uri": "https://localhost:8080/",
          "height": 291
        },
        "id": "dXt3bdNtVj-4",
        "outputId": "bd96718b-c3f7-4c2f-a46e-57d3ec092622"
      },
      "execution_count": 59,
      "outputs": [
        {
          "output_type": "display_data",
          "data": {
            "text/plain": [
              "<Figure size 400x300 with 1 Axes>"
            ],
            "image/png": "[encoded data removed]"
          },
          "metadata": {}
        }
      ]
    },
    {
      "cell_type": "code",
      "source": [
        "RocAuc"
      ],
      "metadata": {
        "colab": {
          "base_uri": "https://localhost:8080/"
        },
        "id": "a_J1a7cwXiuv",
        "outputId": "c4874d48-d036-4294-b193-f985335d1d8c"
      },
      "execution_count": 60,
      "outputs": [
        {
          "output_type": "execute_result",
          "data": {
            "text/plain": [
              "0.8543852560365993"
            ]
          },
          "metadata": {},
          "execution_count": 60
        }
      ]
    },
    {
      "cell_type": "markdown",
      "source": [
        "##### 6.7 Feature importances\n",
        "I will look at feature importances below in order to interpret which features provide the most predictive power for the model."
      ],
      "metadata": {
        "id": "1GcmQ5D8Jywm"
      }
    },
    {
      "cell_type": "code",
      "source": [
        "Importance = FinalModelTunned.feature_importances_\n",
        "SortedIndex = np.argsort(Importance)"
      ],
      "metadata": {
        "id": "-NVR61LMJyiu"
      },
      "execution_count": 61,
      "outputs": []
    },
    {
      "cell_type": "code",
      "source": [
        "plt.bar(X.columns[SortedIndex], Importance[SortedIndex])\n",
        "plt.xticks(rotation=90)\n",
        "plt.show()"
      ],
      "metadata": {
        "colab": {
          "base_uri": "https://localhost:8080/",
          "height": 372
        },
        "id": "NE_J_FHZwX73",
        "outputId": "81302f42-e711-4cc1-c933-4534a89633f3"
      },
      "execution_count": 62,
      "outputs": [
        {
          "output_type": "display_data",
          "data": {
            "text/plain": [
              "<Figure size 400x300 with 1 Axes>"
            ],
            "image/png": "[encoded data removed]"
          },
          "metadata": {}
        }
      ]
    },
    {
      "cell_type": "code",
      "source": [
        "Model = FinalModelTunned"
      ],
      "metadata": {
        "id": "TZawx8ZKBpyT"
      },
      "execution_count": 63,
      "outputs": []
    },
    {
      "cell_type": "markdown",
      "source": [
        "##### 7. Prediction\n",
        "The trained model will be used to predict new data.\n",
        "With this, I will reach the main objective of the project (anticipate the churn of the bank's customers)."
      ],
      "metadata": {
        "id": "cRJZU8p5qLXk"
      }
    },
    {
      "cell_type": "code",
      "source": [
        "UrlTest = 'https://raw.githubusercontent.com/mouraxy/data/main/raw/BankCustomersTest.csv'\n",
        "RawTestData = pd.read_csv(UrlTest)"
      ],
      "metadata": {
        "id": "8B_WeOvhqHLV"
      },
      "execution_count": 64,
      "outputs": []
    },
    {
      "cell_type": "code",
      "source": [
        "Features = RawTestData.drop(target, axis=1)\n",
        "Target = RawTestData[target]"
      ],
      "metadata": {
        "id": "6dlcYRI5wZRj"
      },
      "execution_count": 65,
      "outputs": []
    },
    {
      "cell_type": "code",
      "source": [
        "TextColumns = Features.select_dtypes(include=['object']).columns\n",
        "TextColumns;"
      ],
      "metadata": {
        "id": "3Y45WSWU4thK"
      },
      "execution_count": 66,
      "outputs": []
    },
    {
      "cell_type": "code",
      "source": [
        "Features[TextColumns] = Features[TextColumns].apply(le.fit_transform)\n",
        "Features[TextColumns];"
      ],
      "metadata": {
        "id": "DIZWgEt1xAa1"
      },
      "execution_count": 67,
      "outputs": []
    },
    {
      "cell_type": "code",
      "source": [
        "Features.drop(ColumnsToDrop, axis=1, inplace=True)\n",
        "FeaturesScaled = scaler.transform(Features)"
      ],
      "metadata": {
        "id": "0KJTzvIr045D"
      },
      "execution_count": 68,
      "outputs": []
    },
    {
      "cell_type": "code",
      "source": [
        "ProbaTest = Model.predict_proba(FeaturesScaled)[:, 1]\n",
        "PredTest = Model.predict(FeaturesScaled)"
      ],
      "metadata": {
        "id": "L_KtwKIOw1ii"
      },
      "execution_count": 69,
      "outputs": []
    },
    {
      "cell_type": "markdown",
      "source": [
        "#####7.1 Recall and Model error\n",
        "For financial return, \"Recall\" will be useful to measure the model's ability to correctly identify customers who will leave. In contrast, the \"ModelError\" is the rate of customers who would incorrectly participate in the retention program (the model predicted wrong for these users)."
      ],
      "metadata": {
        "id": "kec7CAiUjbAo"
      }
    },
    {
      "cell_type": "code",
      "source": [
        "EnrichedTestData = RawTestData.copy()"
      ],
      "metadata": {
        "id": "L-TFtRPABBlr"
      },
      "execution_count": 70,
      "outputs": []
    },
    {
      "cell_type": "code",
      "source": [
        "EnrichedTestData['Pred'] = PredTest\n",
        "EnrichedTestData['ProbaCustomerChurn'] = ProbaTest\n",
        "EnrichedTestData['PredCorrect'] = EnrichedTestData['Pred'] == Target"
      ],
      "metadata": {
        "id": "PozMhqbyTT2o"
      },
      "execution_count": 71,
      "outputs": []
    },
    {
      "cell_type": "code",
      "source": [
        "TargetTest = EnrichedTestData['Exited']\n",
        "TargetTrue = EnrichedTestData[EnrichedTestData['Exited'] == 1]\n",
        "PredTrue = EnrichedTestData[EnrichedTestData['Pred'] == 1]"
      ],
      "metadata": {
        "id": "UJExNn6x1lmK"
      },
      "execution_count": 72,
      "outputs": []
    },
    {
      "cell_type": "code",
      "source": [
        "Recall = recall_score(TargetTest, PredTest)\n",
        "ModelError = 1 - precision_score(TargetTest, PredTest)"
      ],
      "metadata": {
        "id": "HqqINGgqrDUX"
      },
      "execution_count": 73,
      "outputs": []
    },
    {
      "cell_type": "markdown",
      "source": [
        "#####8. Financial return\n",
        "In general, banks' profits depend on several factors such as investments, loans and the rates and interest associated with these products and services. So I'll estimate 100 dollars per customer on a user base of 5 million."
      ],
      "metadata": {
        "id": "9VUW_u4odZPJ"
      }
    },
    {
      "cell_type": "code",
      "source": [
        "ProfitPerUser = 100\n",
        "CustomerBase = 5000000"
      ],
      "metadata": {
        "id": "VhGZM-sMdtzU"
      },
      "execution_count": 74,
      "outputs": []
    },
    {
      "cell_type": "markdown",
      "source": [
        "#####8.1 Churn rate\n",
        "If I assume that the proportion of customers leaving the bank is the same as the data used here, then 21.08% of users will churn."
      ],
      "metadata": {
        "id": "eFK1vdkvarIJ"
      }
    },
    {
      "cell_type": "code",
      "source": [
        "ChurnRate= len(TargetTrue)/len(EnrichedTestData)\n",
        "ChurnRate"
      ],
      "metadata": {
        "colab": {
          "base_uri": "https://localhost:8080/"
        },
        "id": "ugLRhl-Maepb",
        "outputId": "86eb53fa-ae48-4018-b553-1dc082301bd9"
      },
      "execution_count": 75,
      "outputs": [
        {
          "output_type": "execute_result",
          "data": {
            "text/plain": [
              "0.21081745543945912"
            ]
          },
          "metadata": {},
          "execution_count": 75
        }
      ]
    },
    {
      "cell_type": "markdown",
      "source": [
        "#####8.2 Churn cost\n",
        "The bank will lose ~$105,408,727 if no campaign is created in the future. This is very bad, but it is the pain point I have to attack and it is the main reason for building this model itself."
      ],
      "metadata": {
        "id": "owNwXoi23kGg"
      }
    },
    {
      "cell_type": "code",
      "source": [
        "LostProfit = ProfitPerUser*(CustomerBase * ChurnRate)\n",
        "LostProfit"
      ],
      "metadata": {
        "colab": {
          "base_uri": "https://localhost:8080/"
        },
        "id": "ka6BJW4ee52z",
        "outputId": "24c96ed2-344e-4c39-eb91-98c493345019"
      },
      "execution_count": 76,
      "outputs": [
        {
          "output_type": "execute_result",
          "data": {
            "text/plain": [
              "105408727.71972956"
            ]
          },
          "metadata": {},
          "execution_count": 76
        }
      ]
    },
    {
      "cell_type": "markdown",
      "source": [
        "#####8.3 Profit saved by the model\n",
        "To calculate the profit that my model can save, I must calculate the *(recall value * lost profit) * retention campaign success percentage*. First, I'll assume a rate of 50%."
      ],
      "metadata": {
        "id": "vWH9Bo5H7XfV"
      }
    },
    {
      "cell_type": "code",
      "source": [
        "RetentionRate = 0.5"
      ],
      "metadata": {
        "id": "K05zqN3jSOC3"
      },
      "execution_count": 77,
      "outputs": []
    },
    {
      "cell_type": "code",
      "source": [
        "SavedProfit = (LostProfit*Recall)*RetentionRate\n",
        "SavedProfit"
      ],
      "metadata": {
        "colab": {
          "base_uri": "https://localhost:8080/"
        },
        "id": "13FPddPz7TNt",
        "outputId": "f4b6a6e6-7e28-4b2c-c4c1-5ffdf8a7bc7e"
      },
      "execution_count": 78,
      "outputs": [
        {
          "output_type": "execute_result",
          "data": {
            "text/plain": [
              "46404425.32267977"
            ]
          },
          "metadata": {},
          "execution_count": 78
        }
      ]
    },
    {
      "cell_type": "markdown",
      "source": [
        "#####8.4 Costs generated by the model\n",
        "The model can also generate unwanted costs, such as wasted time and money on customers that the model predicted wrong. So, I will assume that in the retention campaign the bank will spend 5 dollars and 25 minutes of attention per customer. These expenses are in bonus programs, discounts and contacts via the call center/managers."
      ],
      "metadata": {
        "id": "w6P0XuocVJWH"
      }
    },
    {
      "cell_type": "code",
      "source": [
        "ModelTrueChurn = len(PredTrue)/len(EnrichedTestData)"
      ],
      "metadata": {
        "id": "J9FYrT-AhU7A"
      },
      "execution_count": 79,
      "outputs": []
    },
    {
      "cell_type": "code",
      "source": [
        "CustomersPredChurn = ModelTrueChurn * CustomerBase\n",
        "CustomersPredChurn"
      ],
      "metadata": {
        "colab": {
          "base_uri": "https://localhost:8080/"
        },
        "id": "FZ5DclAsk5XM",
        "outputId": "8742c896-698c-4d2a-a478-61bcfe5bce3d"
      },
      "execution_count": 80,
      "outputs": [
        {
          "output_type": "execute_result",
          "data": {
            "text/plain": [
              "2384757.2218807624"
            ]
          },
          "metadata": {},
          "execution_count": 80
        }
      ]
    },
    {
      "cell_type": "code",
      "source": [
        "HoursCost = (CustomersPredChurn * 25)/60\n",
        "HoursCost"
      ],
      "metadata": {
        "colab": {
          "base_uri": "https://localhost:8080/"
        },
        "id": "knxuOCY7lqW8",
        "outputId": "7f17cd75-453a-401c-cae3-5abf6dedd77f"
      },
      "execution_count": 81,
      "outputs": [
        {
          "output_type": "execute_result",
          "data": {
            "text/plain": [
              "993648.8424503176"
            ]
          },
          "metadata": {},
          "execution_count": 81
        }
      ]
    },
    {
      "cell_type": "code",
      "source": [
        "ModelCost = CustomersPredChurn * 5\n",
        "ModelCost"
      ],
      "metadata": {
        "colab": {
          "base_uri": "https://localhost:8080/"
        },
        "id": "IarQV_4KCvzQ",
        "outputId": "7ea11f28-3c45-4c9b-d805-7219fd478687"
      },
      "execution_count": 82,
      "outputs": [
        {
          "output_type": "execute_result",
          "data": {
            "text/plain": [
              "11923786.109403811"
            ]
          },
          "metadata": {},
          "execution_count": 82
        }
      ]
    },
    {
      "cell_type": "markdown",
      "source": [
        "#####8.5 Results\n",
        "Finally, if I consider that the bank has 5000 full time employees trying to convince these customers, I know that the profit maintained thanks to the model is equal to the *profit recovered - the cost of the model*."
      ],
      "metadata": {
        "id": "aepPL_xDnuhy"
      }
    },
    {
      "cell_type": "code",
      "source": [
        "ProfitSavedByModel = SavedProfit - ModelCost\n",
        "print('Profit retained in the bank using the model:', ProfitSavedByModel)"
      ],
      "metadata": {
        "colab": {
          "base_uri": "https://localhost:8080/"
        },
        "id": "dLD1d8Dmn8aq",
        "outputId": "8300b0e6-6fb8-4b47-dc73-d785e2dc2244"
      },
      "execution_count": 83,
      "outputs": [
        {
          "output_type": "stream",
          "name": "stdout",
          "text": [
            "Profit retained in the bank using the model: 34480639.21327596\n"
          ]
        }
      ]
    },
    {
      "cell_type": "code",
      "source": [
        "ProfitSavedByModelPerc = ProfitSavedByModel/LostProfit\n",
        "print(f'Percentage of profit retained in the bank using the model : {ProfitSavedByModelPerc*100}%')"
      ],
      "metadata": {
        "colab": {
          "base_uri": "https://localhost:8080/"
        },
        "id": "UKlJtlMwGl2P",
        "outputId": "5ca89b4f-acd7-410c-8d44-a303669fac7e"
      },
      "execution_count": 84,
      "outputs": [
        {
          "output_type": "stream",
          "name": "stdout",
          "text": [
            "Percentage of profit retained in the bank using the model : 32.711370262390666%\n"
          ]
        }
      ]
    },
    {
      "cell_type": "markdown",
      "source": [
        "#####8.5.1 Different weights\n",
        "To finalize the project, I'll pass a list of values to the variables, instead of a fixed number as before. With this, I can see the different effects of profit, time and capacity."
      ],
      "metadata": {
        "id": "--DD4e1FeKj5"
      }
    },
    {
      "cell_type": "code",
      "source": [
        "RetentionRates = np.linspace(0, 1.0)\n",
        "ProfitsRetained = []"
      ],
      "metadata": {
        "id": "E8hCaPM4c_a-"
      },
      "execution_count": 85,
      "outputs": []
    },
    {
      "cell_type": "code",
      "source": [
        "for RetentionRate in RetentionRates:\n",
        "    SavedProfit = (LostProfit * Recall) * RetentionRate\n",
        "    ProfitSavedByModel = SavedProfit - ModelCost\n",
        "    ProfitsRetained.append(ProfitSavedByModel)"
      ],
      "metadata": {
        "id": "msrFou9sYgs9"
      },
      "execution_count": 86,
      "outputs": []
    },
    {
      "cell_type": "code",
      "source": [
        "plt.plot(RetentionRates, ProfitsRetained)\n",
        "plt.xlabel('Campaigns Retention Rate')\n",
        "plt.ylabel('Profit Retained');"
      ],
      "metadata": {
        "colab": {
          "base_uri": "https://localhost:8080/",
          "height": 326
        },
        "id": "JNVMKQ3TcXwR",
        "outputId": "fe578650-36bc-4382-f4e1-89e30353035c"
      },
      "execution_count": 87,
      "outputs": [
        {
          "output_type": "display_data",
          "data": {
            "text/plain": [
              "<Figure size 400x300 with 1 Axes>"
            ],
            "image/png": "[encoded data removed]"
          },
          "metadata": {}
        }
      ]
    },
    {
      "cell_type": "code",
      "source": [
        "Capacity = [500, 2000, 3000, 5000, 10000]\n",
        "HoursPerDay = 8\n",
        "Days= []"
      ],
      "metadata": {
        "id": "d5bSCb7hg26e"
      },
      "execution_count": 88,
      "outputs": []
    },
    {
      "cell_type": "code",
      "source": [
        "for Colab in Capacity:\n",
        "    HoursNeeded = HoursCost / Colab\n",
        "    DaysNeeded = HoursNeeded / HoursPerDay\n",
        "    Days.append(DaysNeeded)"
      ],
      "metadata": {
        "id": "fLGEdYd2fRbf"
      },
      "execution_count": 89,
      "outputs": []
    },
    {
      "cell_type": "code",
      "source": [
        "plt.plot(Capacity, Days)\n",
        "plt.xlabel('Capacity')\n",
        "plt.ylabel('Days Needed');"
      ],
      "metadata": {
        "colab": {
          "base_uri": "https://localhost:8080/",
          "height": 314
        },
        "id": "vCtYAMnWgbt3",
        "outputId": "247ca2be-e5a6-46bd-b3ad-f50374aa21c4"
      },
      "execution_count": 90,
      "outputs": [
        {
          "output_type": "display_data",
          "data": {
            "text/plain": [
              "<Figure size 400x300 with 1 Axes>"
            ],
            "image/png": "[encoded data removed]"
          },
          "metadata": {}
        }
      ]
    },
    {
      "cell_type": "markdown",
      "source": [
        "#####9. Conclusion"
      ],
      "metadata": {
        "id": "o5CsL0biaIeO"
      }
    },
    {
      "cell_type": "markdown",
      "source": [
        "Both models achieved a high recall, close to 90%, but with a significant number of false positives and not such high precision. However, the costs generated by the model are much lower than the money that would be retained. So the final model is financially viable for the bank.\n",
        "\n",
        "The main variables that influence the bank's customer exit are the age of its customers and the number of products in their portfolios.\n",
        "\n",
        "As my suggestion, to avoid false positives and their associated costs, the positive results of the model can be validated with other variables that were not in the training data, such as the number of calls opened in the call center and other indicators of customer satisfaction (CSAT).\n",
        "\n",
        "The bank can also encourage customers to have an average of 2 products per portfolio and offer highly personalized services for customers over 40 years old. These measures together with retention and loyalty programs can prevent them from deactivating their accounts."
      ],
      "metadata": {
        "id": "tUfiSk7EpFRz"
      }
    }
  ]
}