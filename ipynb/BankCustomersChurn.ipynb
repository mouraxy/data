{
  "nbformat": 4,
  "nbformat_minor": 0,
  "metadata": {
    "colab": {
      "provenance": [],
      "name": "BankCustomersChurn.ipynb",
      "authorship_tag": "ABX9TyPNBdxnJDAsTWgggMILkALW",
      "include_colab_link": true
    },
    "kernelspec": {
      "name": "python3",
      "display_name": "Python 3"
    },
    "language_info": {
      "name": "python"
    }
  },
  "cells": [
    {
      "cell_type": "markdown",
      "metadata": {
        "id": "view-in-github",
        "colab_type": "text"
      },
      "source": [
        "<a href=\"https://colab.research.google.com/github/mouraxy/data/blob/main/ipynb/BankCustomersChurn.ipynb\" target=\"_parent\"><img src=\"https://colab.research.google.com/assets/colab-badge.svg\" alt=\"Open In Colab\"/></a>"
      ]
    },
    {
      "cell_type": "markdown",
      "source": [
        "`Please upvote↑ if you find this helpful (suggestions are very welcome!)`\n",
        "\n",
        "<br>\n",
        "\n",
        "##### 1. Objective and description...\n",
        "This data set contains details of a bank's customers and the target variable is a binary variable reflecting the fact whether the customer left the bank (closed his account) or he continues to be a customer.\n",
        "\n",
        "<!--\n",
        "\n",
        "This is a dataset in which there are details of a bank's customers and the target variable is a binary variable reflecting the fact whether the customer left the bank (closed his account) or he continues to be a customer. Therefore, the study will try to predict behaviors/attributes to retain bank customers.\n",
        "\n",
        "Each row represents a bank customer, each column contains customer’s attributes described on the column Metadata.\n",
        "\n",
        "The data set includes information about:\n",
        "\n",
        "Customers who left bank – the column is called \"Exited\"\n",
        "Customer account information that each customer has 'creditscore', 'balance', 'numofproducts', 'hascrcard', 'isactivemember'.\n",
        "Demographic info about customers – surname, geography, gender, age range, tenure and 'estimatedsalary'.\n",
        "\n",
        "The features in the given dataset are:\n",
        "\n",
        "rownumber: Row Numbers from 1 to 10000.\n",
        "\n",
        "customerid: A unique ID that identifies each customer.\n",
        "\n",
        "surname: The customer’s surname.\n",
        "\n",
        "creditscore: A credit score is a number between 300–850 that depicts a consumer's creditworthiness.\n",
        "\n",
        "geography: The country from which the customer belongs to.\n",
        "\n",
        "Gender: The customer’s gender: Male, Female\n",
        "\n",
        "Age: The customer’s current age, in years, at the time of being customer.\n",
        "\n",
        "tenure: The number of years for which the customer has been with the bank.\n",
        "\n",
        "balance: Bank balance of the customer.\n",
        "\n",
        "numofproducts: the number of bank products the customer is utilising.\n",
        "\n",
        "hascrcard: The number of credit cards given to the customer by the bank.\n",
        "\n",
        "isactivemember: Binary Flag for indicating if the client is active or not with the bank before the moment where the client exits the company (recorded in the variable \"exited\")\n",
        "\n",
        "exited: Binary flag 1 if the customer closed account with bank and 0 if the customer is retained\n",
        "\n",
        "- In the given study, we have a classification problem.\n",
        "\n",
        "Based on the data and data dictionary, We have a classification problem.\n",
        "We will try to predict behaviors/attributes to retain bank customers on the target variable in the given dataset.\n",
        "The Target variable in the given dataset is \"exited\".\n",
        "We will make classification on the target variable \"exited\".\n",
        "Lastly we will build a model to get best classification possible on the target variablevia Deep Learning algorithms.\n",
        "For that we will examine whether the target variable is balanced or imbalanced.\n",
        "As we will see later, our target variable has imbalanced data\n",
        "For that reason we are not going to use Accuracy score,\n",
        "Based on the problem on the hand, we will use Recall score.\n",
        "\n",
        "\n",
        "-->\n",
        "\n",
        "<!--\n",
        "\n",
        "As we know, it is much more expensive to sign in a new client than keeping an existing one. It is advantageous for banks to know what leads a client towards the decision to leave the company.\n",
        "\n",
        "Churn prevention allows companies to develop loyalty programs and retention campaigns to keep as many customers as possible.\n",
        "\n",
        "-->"
      ],
      "metadata": {
        "id": "cIKC4wmo_83X"
      }
    },
    {
      "cell_type": "code",
      "source": [
        "#We trust in God; all others bring me data."
      ],
      "metadata": {
        "id": "RbJyAJeTIZzH"
      },
      "execution_count": 257,
      "outputs": []
    },
    {
      "cell_type": "markdown",
      "source": [
        "##### 2. Importing libraries...\n",
        "Preparing the development environment. This is common practice when starting Python scripts and notebooks to ensure that all the necessary dependencies (features that other people have already written) are available."
      ],
      "metadata": {
        "id": "5F4yrnNACfXo"
      }
    },
    {
      "cell_type": "code",
      "execution_count": 320,
      "metadata": {
        "id": "humekQ0N34J2"
      },
      "outputs": [],
      "source": [
        "!wget -q https://raw.githubusercontent.com/mouraxy/data/main/utils.py"
      ]
    },
    {
      "cell_type": "code",
      "source": [
        "# ignore console warnings\n",
        "import warnings\n",
        "warnings.filterwarnings(\"ignore\")"
      ],
      "metadata": {
        "id": "wU33yyRjA-_c"
      },
      "execution_count": 321,
      "outputs": []
    },
    {
      "cell_type": "code",
      "source": [
        "# github functions\n",
        "from utils import FormatTable\n",
        "from utils import GetMetadata\n",
        "from utils import ShowDuplicates\n",
        "from utils import ShowTopValues\n",
        "from utils import ShowOutliers\n",
        "from utils import CountCorrelatedColumns\n",
        "from utils import CrossValidation\n",
        "from utils import FindBestParameters"
      ],
      "metadata": {
        "id": "dYE3cWp-AnHf"
      },
      "execution_count": 322,
      "outputs": []
    },
    {
      "cell_type": "code",
      "source": [
        "# data libraries\n",
        "import numpy as np\n",
        "import pandas as pd\n",
        "import missingno as ms\n",
        "import seaborn as sns\n",
        "import matplotlib.pyplot as plt"
      ],
      "metadata": {
        "id": "a-qEekAKtpZS"
      },
      "execution_count": 323,
      "outputs": []
    },
    {
      "cell_type": "code",
      "source": [
        "# machine learning libraries\n",
        "from sklearn.utils import class_weight\n",
        "from sklearn.tree import DecisionTreeClassifier\n",
        "from sklearn.ensemble import RandomForestClassifier\n",
        "from sklearn.model_selection import train_test_split\n",
        "from sklearn.preprocessing import LabelEncoder, MinMaxScaler\n",
        "from sklearn.metrics import recall_score, confusion_matrix, precision_recall_curve, roc_curve, roc_auc_score"
      ],
      "metadata": {
        "id": "VjXG2ANotqNp"
      },
      "execution_count": 344,
      "outputs": []
    },
    {
      "cell_type": "code",
      "source": [
        "# plots configuration\n",
        "sns.set(style='whitegrid', rc={'grid.linewidth': 0.4})\n",
        "\n",
        "plt.rc('figure', figsize=(4, 3))\n",
        "plt.rc('xtick', labelsize=8)\n",
        "plt.rc('ytick', labelsize=8)"
      ],
      "metadata": {
        "id": "fBiP8X_ZxYnH"
      },
      "execution_count": 325,
      "outputs": []
    },
    {
      "cell_type": "markdown",
      "source": [
        "<br>\n",
        "\n",
        "##### 3. Loading data...\n",
        "The initial step in ML algorithms consists of importing data from external sources into programming environments. It's the first step to building a model.\n",
        "\n"
      ],
      "metadata": {
        "id": "H6qwX91ECmY3"
      }
    },
    {
      "cell_type": "code",
      "source": [
        "# connects to the database\n",
        "url = 'https://raw.githubusercontent.com/mouraxy/data/main/raw/bankCustomers.csv'"
      ],
      "metadata": {
        "id": "YPF8sNhXAn4f"
      },
      "execution_count": 264,
      "outputs": []
    },
    {
      "cell_type": "code",
      "source": [
        "# read the database\n",
        "rawData = pd.read_csv(url)"
      ],
      "metadata": {
        "id": "NLvwFzihBB3Y"
      },
      "execution_count": 265,
      "outputs": []
    },
    {
      "cell_type": "code",
      "source": [
        "rawData.head(3)"
      ],
      "metadata": {
        "colab": {
          "base_uri": "https://localhost:8080/",
          "height": 144
        },
        "id": "qOCue_FK_UKm",
        "outputId": "54660fcf-68ed-4a86-f0b4-8974f85049f2"
      },
      "execution_count": 266,
      "outputs": [
        {
          "output_type": "execute_result",
          "data": {
            "text/plain": [
              "   RowNumber  CustomerId   Surname  CreditScore Geography  Gender  Age  \\\n",
              "0          1    15634602  Hargrave          619    France  Female   42   \n",
              "1          2    15647311      Hill          608     Spain  Female   41   \n",
              "2          3    15619304      Onio          502    France  Female   42   \n",
              "\n",
              "   Tenure    Balance  NumOfProducts  HasCrCard  IsActiveMember  \\\n",
              "0       2       0.00              1          1               1   \n",
              "1       1   83807.86              1          0               1   \n",
              "2       8  159660.80              3          1               0   \n",
              "\n",
              "   EstimatedSalary  Exited  \n",
              "0        101348.88       1  \n",
              "1        112542.58       0  \n",
              "2        113931.57       1  "
            ],
            "text/html": [
              "\n",
              "  <div id=\"df-d2575de1-a6bf-40ab-b5f2-dcb0187dac66\" class=\"colab-df-container\">\n",
              "    <div>\n",
              "<style scoped>\n",
              "    .dataframe tbody tr th:only-of-type {\n",
              "        vertical-align: middle;\n",
              "    }\n",
              "\n",
              "    .dataframe tbody tr th {\n",
              "        vertical-align: top;\n",
              "    }\n",
              "\n",
              "    .dataframe thead th {\n",
              "        text-align: right;\n",
              "    }\n",
              "</style>\n",
              "<table border=\"1\" class=\"dataframe\">\n",
              "  <thead>\n",
              "    <tr style=\"text-align: right;\">\n",
              "      <th></th>\n",
              "      <th>RowNumber</th>\n",
              "      <th>CustomerId</th>\n",
              "      <th>Surname</th>\n",
              "      <th>CreditScore</th>\n",
              "      <th>Geography</th>\n",
              "      <th>Gender</th>\n",
              "      <th>Age</th>\n",
              "      <th>Tenure</th>\n",
              "      <th>Balance</th>\n",
              "      <th>NumOfProducts</th>\n",
              "      <th>HasCrCard</th>\n",
              "      <th>IsActiveMember</th>\n",
              "      <th>EstimatedSalary</th>\n",
              "      <th>Exited</th>\n",
              "    </tr>\n",
              "  </thead>\n",
              "  <tbody>\n",
              "    <tr>\n",
              "      <th>0</th>\n",
              "      <td>1</td>\n",
              "      <td>15634602</td>\n",
              "      <td>Hargrave</td>\n",
              "      <td>619</td>\n",
              "      <td>France</td>\n",
              "      <td>Female</td>\n",
              "      <td>42</td>\n",
              "      <td>2</td>\n",
              "      <td>0.00</td>\n",
              "      <td>1</td>\n",
              "      <td>1</td>\n",
              "      <td>1</td>\n",
              "      <td>101348.88</td>\n",
              "      <td>1</td>\n",
              "    </tr>\n",
              "    <tr>\n",
              "      <th>1</th>\n",
              "      <td>2</td>\n",
              "      <td>15647311</td>\n",
              "      <td>Hill</td>\n",
              "      <td>608</td>\n",
              "      <td>Spain</td>\n",
              "      <td>Female</td>\n",
              "      <td>41</td>\n",
              "      <td>1</td>\n",
              "      <td>83807.86</td>\n",
              "      <td>1</td>\n",
              "      <td>0</td>\n",
              "      <td>1</td>\n",
              "      <td>112542.58</td>\n",
              "      <td>0</td>\n",
              "    </tr>\n",
              "    <tr>\n",
              "      <th>2</th>\n",
              "      <td>3</td>\n",
              "      <td>15619304</td>\n",
              "      <td>Onio</td>\n",
              "      <td>502</td>\n",
              "      <td>France</td>\n",
              "      <td>Female</td>\n",
              "      <td>42</td>\n",
              "      <td>8</td>\n",
              "      <td>159660.80</td>\n",
              "      <td>3</td>\n",
              "      <td>1</td>\n",
              "      <td>0</td>\n",
              "      <td>113931.57</td>\n",
              "      <td>1</td>\n",
              "    </tr>\n",
              "  </tbody>\n",
              "</table>\n",
              "</div>\n",
              "    <div class=\"colab-df-buttons\">\n",
              "\n",
              "  <div class=\"colab-df-container\">\n",
              "    <button class=\"colab-df-convert\" onclick=\"convertToInteractive('df-d2575de1-a6bf-40ab-b5f2-dcb0187dac66')\"\n",
              "            title=\"Convert this dataframe to an interactive table.\"\n",
              "            style=\"display:none;\">\n",
              "\n",
              "  <svg xmlns=\"http://www.w3.org/2000/svg\" height=\"24px\" viewBox=\"0 -960 960 960\">\n",
              "    <path d=\"M120-120v-720h720v720H120Zm60-500h600v-160H180v160Zm220 220h160v-160H400v160Zm0 220h160v-160H400v160ZM180-400h160v-160H180v160Zm440 0h160v-160H620v160ZM180-180h160v-160H180v160Zm440 0h160v-160H620v160Z\"/>\n",
              "  </svg>\n",
              "    </button>\n",
              "\n",
              "  <style>\n",
              "    .colab-df-container {\n",
              "      display:flex;\n",
              "      gap: 12px;\n",
              "    }\n",
              "\n",
              "    .colab-df-convert {\n",
              "      background-color: #E8F0FE;\n",
              "      border: none;\n",
              "      border-radius: 50%;\n",
              "      cursor: pointer;\n",
              "      display: none;\n",
              "      fill: #1967D2;\n",
              "      height: 32px;\n",
              "      padding: 0 0 0 0;\n",
              "      width: 32px;\n",
              "    }\n",
              "\n",
              "    .colab-df-convert:hover {\n",
              "      background-color: #E2EBFA;\n",
              "      box-shadow: 0px 1px 2px rgba(60, 64, 67, 0.3), 0px 1px 3px 1px rgba(60, 64, 67, 0.15);\n",
              "      fill: #174EA6;\n",
              "    }\n",
              "\n",
              "    .colab-df-buttons div {\n",
              "      margin-bottom: 4px;\n",
              "    }\n",
              "\n",
              "    [theme=dark] .colab-df-convert {\n",
              "      background-color: #3B4455;\n",
              "      fill: #D2E3FC;\n",
              "    }\n",
              "\n",
              "    [theme=dark] .colab-df-convert:hover {\n",
              "      background-color: #434B5C;\n",
              "      box-shadow: 0px 1px 3px 1px rgba(0, 0, 0, 0.15);\n",
              "      filter: drop-shadow(0px 1px 2px rgba(0, 0, 0, 0.3));\n",
              "      fill: #FFFFFF;\n",
              "    }\n",
              "  </style>\n",
              "\n",
              "    <script>\n",
              "      const buttonEl =\n",
              "        document.querySelector('#df-d2575de1-a6bf-40ab-b5f2-dcb0187dac66 button.colab-df-convert');\n",
              "      buttonEl.style.display =\n",
              "        google.colab.kernel.accessAllowed ? 'block' : 'none';\n",
              "\n",
              "      async function convertToInteractive(key) {\n",
              "        const element = document.querySelector('#df-d2575de1-a6bf-40ab-b5f2-dcb0187dac66');\n",
              "        const dataTable =\n",
              "          await google.colab.kernel.invokeFunction('convertToInteractive',\n",
              "                                                    [key], {});\n",
              "        if (!dataTable) return;\n",
              "\n",
              "        const docLinkHtml = 'Like what you see? Visit the ' +\n",
              "          '<a target=\"_blank\" href=https://colab.research.google.com/notebooks/data_table.ipynb>data table notebook</a>'\n",
              "          + ' to learn more about interactive tables.';\n",
              "        element.innerHTML = '';\n",
              "        dataTable['output_type'] = 'display_data';\n",
              "        await google.colab.output.renderOutput(dataTable, element);\n",
              "        const docLink = document.createElement('div');\n",
              "        docLink.innerHTML = docLinkHtml;\n",
              "        element.appendChild(docLink);\n",
              "      }\n",
              "    </script>\n",
              "  </div>\n",
              "\n",
              "\n",
              "<div id=\"df-6e8f341c-7a65-425d-b0a2-a5c39853c46c\">\n",
              "  <button class=\"colab-df-quickchart\" onclick=\"quickchart('df-6e8f341c-7a65-425d-b0a2-a5c39853c46c')\"\n",
              "            title=\"Suggest charts\"\n",
              "            style=\"display:none;\">\n",
              "\n",
              "<svg xmlns=\"http://www.w3.org/2000/svg\" height=\"24px\"viewBox=\"0 0 24 24\"\n",
              "     width=\"24px\">\n",
              "    <g>\n",
              "        <path d=\"M19 3H5c-1.1 0-2 .9-2 2v14c0 1.1.9 2 2 2h14c1.1 0 2-.9 2-2V5c0-1.1-.9-2-2-2zM9 17H7v-7h2v7zm4 0h-2V7h2v10zm4 0h-2v-4h2v4z\"/>\n",
              "    </g>\n",
              "</svg>\n",
              "  </button>\n",
              "\n",
              "<style>\n",
              "  .colab-df-quickchart {\n",
              "      --bg-color: #E8F0FE;\n",
              "      --fill-color: #1967D2;\n",
              "      --hover-bg-color: #E2EBFA;\n",
              "      --hover-fill-color: #174EA6;\n",
              "      --disabled-fill-color: #AAA;\n",
              "      --disabled-bg-color: #DDD;\n",
              "  }\n",
              "\n",
              "  [theme=dark] .colab-df-quickchart {\n",
              "      --bg-color: #3B4455;\n",
              "      --fill-color: #D2E3FC;\n",
              "      --hover-bg-color: #434B5C;\n",
              "      --hover-fill-color: #FFFFFF;\n",
              "      --disabled-bg-color: #3B4455;\n",
              "      --disabled-fill-color: #666;\n",
              "  }\n",
              "\n",
              "  .colab-df-quickchart {\n",
              "    background-color: var(--bg-color);\n",
              "    border: none;\n",
              "    border-radius: 50%;\n",
              "    cursor: pointer;\n",
              "    display: none;\n",
              "    fill: var(--fill-color);\n",
              "    height: 32px;\n",
              "    padding: 0;\n",
              "    width: 32px;\n",
              "  }\n",
              "\n",
              "  .colab-df-quickchart:hover {\n",
              "    background-color: var(--hover-bg-color);\n",
              "    box-shadow: 0 1px 2px rgba(60, 64, 67, 0.3), 0 1px 3px 1px rgba(60, 64, 67, 0.15);\n",
              "    fill: var(--button-hover-fill-color);\n",
              "  }\n",
              "\n",
              "  .colab-df-quickchart-complete:disabled,\n",
              "  .colab-df-quickchart-complete:disabled:hover {\n",
              "    background-color: var(--disabled-bg-color);\n",
              "    fill: var(--disabled-fill-color);\n",
              "    box-shadow: none;\n",
              "  }\n",
              "\n",
              "  .colab-df-spinner {\n",
              "    border: 2px solid var(--fill-color);\n",
              "    border-color: transparent;\n",
              "    border-bottom-color: var(--fill-color);\n",
              "    animation:\n",
              "      spin 1s steps(1) infinite;\n",
              "  }\n",
              "\n",
              "  @keyframes spin {\n",
              "    0% {\n",
              "      border-color: transparent;\n",
              "      border-bottom-color: var(--fill-color);\n",
              "      border-left-color: var(--fill-color);\n",
              "    }\n",
              "    20% {\n",
              "      border-color: transparent;\n",
              "      border-left-color: var(--fill-color);\n",
              "      border-top-color: var(--fill-color);\n",
              "    }\n",
              "    30% {\n",
              "      border-color: transparent;\n",
              "      border-left-color: var(--fill-color);\n",
              "      border-top-color: var(--fill-color);\n",
              "      border-right-color: var(--fill-color);\n",
              "    }\n",
              "    40% {\n",
              "      border-color: transparent;\n",
              "      border-right-color: var(--fill-color);\n",
              "      border-top-color: var(--fill-color);\n",
              "    }\n",
              "    60% {\n",
              "      border-color: transparent;\n",
              "      border-right-color: var(--fill-color);\n",
              "    }\n",
              "    80% {\n",
              "      border-color: transparent;\n",
              "      border-right-color: var(--fill-color);\n",
              "      border-bottom-color: var(--fill-color);\n",
              "    }\n",
              "    90% {\n",
              "      border-color: transparent;\n",
              "      border-bottom-color: var(--fill-color);\n",
              "    }\n",
              "  }\n",
              "</style>\n",
              "\n",
              "  <script>\n",
              "    async function quickchart(key) {\n",
              "      const quickchartButtonEl =\n",
              "        document.querySelector('#' + key + ' button');\n",
              "      quickchartButtonEl.disabled = true;  // To prevent multiple clicks.\n",
              "      quickchartButtonEl.classList.add('colab-df-spinner');\n",
              "      try {\n",
              "        const charts = await google.colab.kernel.invokeFunction(\n",
              "            'suggestCharts', [key], {});\n",
              "      } catch (error) {\n",
              "        console.error('Error during call to suggestCharts:', error);\n",
              "      }\n",
              "      quickchartButtonEl.classList.remove('colab-df-spinner');\n",
              "      quickchartButtonEl.classList.add('colab-df-quickchart-complete');\n",
              "    }\n",
              "    (() => {\n",
              "      let quickchartButtonEl =\n",
              "        document.querySelector('#df-6e8f341c-7a65-425d-b0a2-a5c39853c46c button');\n",
              "      quickchartButtonEl.style.display =\n",
              "        google.colab.kernel.accessAllowed ? 'block' : 'none';\n",
              "    })();\n",
              "  </script>\n",
              "</div>\n",
              "\n",
              "    </div>\n",
              "  </div>\n"
            ],
            "application/vnd.google.colaboratory.intrinsic+json": {
              "type": "dataframe",
              "variable_name": "rawData",
              "summary": "{\n  \"name\": \"rawData\",\n  \"rows\": 10000,\n  \"fields\": [\n    {\n      \"column\": \"RowNumber\",\n      \"properties\": {\n        \"dtype\": \"number\",\n        \"std\": 2886,\n        \"min\": 1,\n        \"max\": 10000,\n        \"num_unique_values\": 10000,\n        \"samples\": [\n          6253,\n          4685,\n          1732\n        ],\n        \"semantic_type\": \"\",\n        \"description\": \"\"\n      }\n    },\n    {\n      \"column\": \"CustomerId\",\n      \"properties\": {\n        \"dtype\": \"number\",\n        \"std\": 71936,\n        \"min\": 15565701,\n        \"max\": 15815690,\n        \"num_unique_values\": 10000,\n        \"samples\": [\n          15687492,\n          15736963,\n          15721730\n        ],\n        \"semantic_type\": \"\",\n        \"description\": \"\"\n      }\n    },\n    {\n      \"column\": \"Surname\",\n      \"properties\": {\n        \"dtype\": \"category\",\n        \"num_unique_values\": 2932,\n        \"samples\": [\n          \"McGuirk\",\n          \"Torkelson\",\n          \"Rapuluchukwu\"\n        ],\n        \"semantic_type\": \"\",\n        \"description\": \"\"\n      }\n    },\n    {\n      \"column\": \"CreditScore\",\n      \"properties\": {\n        \"dtype\": \"number\",\n        \"std\": 96,\n        \"min\": 350,\n        \"max\": 850,\n        \"num_unique_values\": 460,\n        \"samples\": [\n          754,\n          533,\n          744\n        ],\n        \"semantic_type\": \"\",\n        \"description\": \"\"\n      }\n    },\n    {\n      \"column\": \"Geography\",\n      \"properties\": {\n        \"dtype\": \"category\",\n        \"num_unique_values\": 3,\n        \"samples\": [\n          \"France\",\n          \"Spain\",\n          \"Germany\"\n        ],\n        \"semantic_type\": \"\",\n        \"description\": \"\"\n      }\n    },\n    {\n      \"column\": \"Gender\",\n      \"properties\": {\n        \"dtype\": \"category\",\n        \"num_unique_values\": 2,\n        \"samples\": [\n          \"Male\",\n          \"Female\"\n        ],\n        \"semantic_type\": \"\",\n        \"description\": \"\"\n      }\n    },\n    {\n      \"column\": \"Age\",\n      \"properties\": {\n        \"dtype\": \"number\",\n        \"std\": 10,\n        \"min\": 18,\n        \"max\": 92,\n        \"num_unique_values\": 70,\n        \"samples\": [\n          61,\n          42\n        ],\n        \"semantic_type\": \"\",\n        \"description\": \"\"\n      }\n    },\n    {\n      \"column\": \"Tenure\",\n      \"properties\": {\n        \"dtype\": \"number\",\n        \"std\": 2,\n        \"min\": 0,\n        \"max\": 10,\n        \"num_unique_values\": 11,\n        \"samples\": [\n          6,\n          2\n        ],\n        \"semantic_type\": \"\",\n        \"description\": \"\"\n      }\n    },\n    {\n      \"column\": \"Balance\",\n      \"properties\": {\n        \"dtype\": \"number\",\n        \"std\": 62397.405202385955,\n        \"min\": 0.0,\n        \"max\": 250898.09,\n        \"num_unique_values\": 6382,\n        \"samples\": [\n          117707.18,\n          133050.97\n        ],\n        \"semantic_type\": \"\",\n        \"description\": \"\"\n      }\n    },\n    {\n      \"column\": \"NumOfProducts\",\n      \"properties\": {\n        \"dtype\": \"number\",\n        \"std\": 0,\n        \"min\": 1,\n        \"max\": 4,\n        \"num_unique_values\": 4,\n        \"samples\": [\n          3,\n          4\n        ],\n        \"semantic_type\": \"\",\n        \"description\": \"\"\n      }\n    },\n    {\n      \"column\": \"HasCrCard\",\n      \"properties\": {\n        \"dtype\": \"number\",\n        \"std\": 0,\n        \"min\": 0,\n        \"max\": 1,\n        \"num_unique_values\": 2,\n        \"samples\": [\n          0,\n          1\n        ],\n        \"semantic_type\": \"\",\n        \"description\": \"\"\n      }\n    },\n    {\n      \"column\": \"IsActiveMember\",\n      \"properties\": {\n        \"dtype\": \"number\",\n        \"std\": 0,\n        \"min\": 0,\n        \"max\": 1,\n        \"num_unique_values\": 2,\n        \"samples\": [\n          0,\n          1\n        ],\n        \"semantic_type\": \"\",\n        \"description\": \"\"\n      }\n    },\n    {\n      \"column\": \"EstimatedSalary\",\n      \"properties\": {\n        \"dtype\": \"number\",\n        \"std\": 57510.49281769816,\n        \"min\": 11.58,\n        \"max\": 199992.48,\n        \"num_unique_values\": 9999,\n        \"samples\": [\n          100809.99,\n          95273.73\n        ],\n        \"semantic_type\": \"\",\n        \"description\": \"\"\n      }\n    },\n    {\n      \"column\": \"Exited\",\n      \"properties\": {\n        \"dtype\": \"number\",\n        \"std\": 0,\n        \"min\": 0,\n        \"max\": 1,\n        \"num_unique_values\": 2,\n        \"samples\": [\n          0,\n          1\n        ],\n        \"semantic_type\": \"\",\n        \"description\": \"\"\n      }\n    }\n  ]\n}"
            }
          },
          "metadata": {},
          "execution_count": 266
        }
      ]
    },
    {
      "cell_type": "markdown",
      "source": [
        "<br>\n",
        "\n",
        "##### 4. Exploratory analysis...\n",
        "From here, i will try to understand the object of study. So, let's explore the characteristics of our data!"
      ],
      "metadata": {
        "id": "-iJG-6UwC3Uw"
      }
    },
    {
      "cell_type": "code",
      "source": [
        "RowsRawData = len(rawData)\n",
        "ColsRawData = rawData.shape[1]"
      ],
      "metadata": {
        "id": "Xp2VAnIoCVbg"
      },
      "execution_count": 267,
      "outputs": []
    },
    {
      "cell_type": "code",
      "source": [
        "print(f'\\n\\n Number of rows: {RowsRawData}')\n",
        "print(f' Number of columns: {ColsRawData}')"
      ],
      "metadata": {
        "colab": {
          "base_uri": "https://localhost:8080/"
        },
        "id": "QhkiXgyFDKWQ",
        "outputId": "b1600e93-5e5d-4332-c15a-91514e5e8cde"
      },
      "execution_count": 268,
      "outputs": [
        {
          "output_type": "stream",
          "name": "stdout",
          "text": [
            "\n",
            "\n",
            " Number of rows: 10000\n",
            " Number of columns: 14\n"
          ]
        }
      ]
    },
    {
      "cell_type": "code",
      "source": [
        "print(FormatTable(GetMetadata(rawData), fmt='orgtbl'))"
      ],
      "metadata": {
        "colab": {
          "base_uri": "https://localhost:8080/"
        },
        "id": "cfT9jmC4DNCf",
        "outputId": "6794458c-55e1-4482-f4a9-ba56ba61adb2"
      },
      "execution_count": 313,
      "outputs": [
        {
          "output_type": "stream",
          "name": "stdout",
          "text": [
            "| Variable        | Data Types   | Nulls   | Minimum     | Maximum     | Mean        |\n",
            "|-----------------+--------------+---------+-------------+-------------+-------------|\n",
            "| RowNumber       | int64        | 0       | 1.00        | 10000.00    | 5000.50     |\n",
            "| CustomerId      | int64        | 0       | 15565701.00 | 15815690.00 | 15690940.57 |\n",
            "| Surname         | object       | 0       | nan         | nan         | nan         |\n",
            "| CreditScore     | int64        | 0       | 350.00      | 850.00      | 650.53      |\n",
            "| Geography       | object       | 0       | nan         | nan         | nan         |\n",
            "| Gender          | object       | 0       | nan         | nan         | nan         |\n",
            "| Age             | int64        | 0       | 18.00       | 92.00       | 38.92       |\n",
            "| Tenure          | int64        | 0       | 0.00        | 10.00       | 5.01        |\n",
            "| Balance         | float64      | 0       | 0.00        | 250898.09   | 76485.89    |\n",
            "| NumOfProducts   | int64        | 0       | 1.00        | 4.00        | 1.53        |\n",
            "| HasCrCard       | int64        | 0       | 0.00        | 1.00        | 0.71        |\n",
            "| IsActiveMember  | int64        | 0       | 0.00        | 1.00        | 0.52        |\n",
            "| EstimatedSalary | float64      | 0       | 11.58       | 199992.48   | 100090.24   |\n",
            "| Exited          | int64        | 0       | 0.00        | 1.00        | 0.20        |\n"
          ]
        }
      ]
    },
    {
      "cell_type": "markdown",
      "source": [
        "<br>\n",
        "\n",
        "##### 4.1 Duplicates\n",
        "\n",
        "Duplicate data affects the integrity of the data, compromising its accuracy and requiring a large storage allocation."
      ],
      "metadata": {
        "id": "T1n04pR8En0w"
      }
    },
    {
      "cell_type": "code",
      "source": [
        "ShowDuplicates(rawData)"
      ],
      "metadata": {
        "colab": {
          "base_uri": "https://localhost:8080/"
        },
        "id": "2mKUN_pEEnr_",
        "outputId": "d4698ab7-24e7-49a1-e2e4-1a0d0b9122b9"
      },
      "execution_count": 270,
      "outputs": [
        {
          "output_type": "stream",
          "name": "stdout",
          "text": [
            "\n",
            "\n",
            " DataFrame without duplicates\n"
          ]
        }
      ]
    },
    {
      "cell_type": "markdown",
      "source": [
        "##### 4.2 Distribution of data\n",
        "\n",
        "The distribution of the data in each variable identifies\n",
        "which variables may be relevant. With this approach it will not be necessary to write extensive lines of code with visualization libraries."
      ],
      "metadata": {
        "id": "mYINVFvQEzSH"
      }
    },
    {
      "cell_type": "code",
      "source": [
        "print(FormatTable(ShowTopValues(rawData), fmt='orgtbl'))"
      ],
      "metadata": {
        "colab": {
          "base_uri": "https://localhost:8080/"
        },
        "id": "Y_lL3HAXFGbH",
        "outputId": "f6986429-6818-4a37-d817-5921fc707cb3"
      },
      "execution_count": 312,
      "outputs": [
        {
          "output_type": "stream",
          "name": "stdout",
          "text": [
            "| Var             | Top1     | Top2      | Others   |\n",
            "|-----------------+----------+-----------+----------|\n",
            "| RowNumber       | 1        | 6671      | +9998    |\n",
            "| CustomerId      | 15634602 | 15667932  | +9998    |\n",
            "| Surname         | Smith    | Scott     | +2930    |\n",
            "| CreditScore     | 850      | 678       | +458     |\n",
            "| Geography       | France   | Germany   | +1       |\n",
            "| Gender          | Male     | Female    | +0       |\n",
            "| Age             | 37       | 38        | +68      |\n",
            "| Tenure          | 2        | 1         | +9       |\n",
            "| Balance         | 0.0      | 130170.82 | +6380    |\n",
            "| NumOfProducts   | 1        | 2         | +2       |\n",
            "| HasCrCard       | 1        | 0         | +0       |\n",
            "| IsActiveMember  | 1        | 0         | +0       |\n",
            "| EstimatedSalary | 24924.92 | 101348.88 | +9997    |\n",
            "| Exited          | 0        | 1         | +0       |\n"
          ]
        }
      ]
    },
    {
      "cell_type": "markdown",
      "source": [
        "<br>\n",
        "\n",
        "##### 4.2.1 Target variable\n",
        "The target variable is what we should predict in a statistical or machine learning model. In other words, anticipating your results is the goal!"
      ],
      "metadata": {
        "id": "l0a42uofFR_f"
      }
    },
    {
      "cell_type": "code",
      "source": [
        "target = 'Exited'"
      ],
      "metadata": {
        "id": "DMKZ4ZHMFZ5e"
      },
      "execution_count": 272,
      "outputs": []
    },
    {
      "cell_type": "code",
      "source": [
        "TargetValues = rawData[target].value_counts()"
      ],
      "metadata": {
        "id": "6dX1GVUXGIJf"
      },
      "execution_count": 273,
      "outputs": []
    },
    {
      "cell_type": "code",
      "source": [
        "sns.lineplot(data=TargetValues)\n",
        "plt.ylabel('');"
      ],
      "metadata": {
        "colab": {
          "base_uri": "https://localhost:8080/",
          "height": 291
        },
        "id": "dh6TG4RE4jyW",
        "outputId": "aed36f9f-74b5-401b-a076-10eb1cddfc71"
      },
      "execution_count": 274,
      "outputs": [
        {
          "output_type": "display_data",
          "data": {
            "text/plain": [
              "<Figure size 400x300 with 1 Axes>"
            ],
            "image/png": "[encoded data removed]"
          },
          "metadata": {}
        }
      ]
    },
    {
      "cell_type": "markdown",
      "source": [
        "##### 5. Data Preprocessing\n",
        "\n",
        "Now, i'm going to manipulate the raw data into a more favorable format. First, I'll remove all unwanted entries (empty rows and duplicates)."
      ],
      "metadata": {
        "id": "Qy2rfVBvFjKn"
      }
    },
    {
      "cell_type": "code",
      "source": [
        "df = rawData.copy()"
      ],
      "metadata": {
        "id": "k6eUF5kQFwiW"
      },
      "execution_count": 275,
      "outputs": []
    },
    {
      "cell_type": "code",
      "source": [
        "ms.matrix(df, fontsize=8, labels=False, sparkline=False, figsize=(4, 3));"
      ],
      "metadata": {
        "colab": {
          "base_uri": "https://localhost:8080/",
          "height": 281
        },
        "id": "rcXPb6WTF1hW",
        "outputId": "7fd6fc0d-f09e-4ec6-c6a2-2258fd26f036"
      },
      "execution_count": 276,
      "outputs": [
        {
          "output_type": "display_data",
          "data": {
            "text/plain": [
              "<Figure size 400x300 with 1 Axes>"
            ],
            "image/png": "[encoded data removed]"
          },
          "metadata": {}
        }
      ]
    },
    {
      "cell_type": "markdown",
      "source": [
        "##### 5.1 Categorical encoding\n",
        "The next step is transform each categorical variable. Each label will be mapped to an integer, making it easier to use these variables in algorithms that require numerical entries."
      ],
      "metadata": {
        "id": "49sXAq6zGAXI"
      }
    },
    {
      "cell_type": "code",
      "source": [
        "textColumns = df.select_dtypes(include=['object']).columns"
      ],
      "metadata": {
        "id": "2vSQ2wRhGtqH"
      },
      "execution_count": 277,
      "outputs": []
    },
    {
      "cell_type": "code",
      "source": [
        "le = LabelEncoder()\n",
        "\n",
        "for col in textColumns:\n",
        "    df[col] = le.fit_transform(df[col])"
      ],
      "metadata": {
        "id": "3qca3h7yHTxm"
      },
      "execution_count": 278,
      "outputs": []
    },
    {
      "cell_type": "markdown",
      "source": [
        "##### 5.2 Correlation\n",
        "The correlation matrix is ​​a table that shows how variables are related to each other, ranging from -1 to 1. This visualization is essential to identify the most important characteristics of our data."
      ],
      "metadata": {
        "id": "p7Wz2ejLIAWW"
      }
    },
    {
      "cell_type": "code",
      "source": [
        "CorrMatrix = df.corr()"
      ],
      "metadata": {
        "id": "U9FTp1GrRDvG"
      },
      "execution_count": 279,
      "outputs": []
    },
    {
      "cell_type": "code",
      "source": [
        "sns.heatmap(CorrMatrix, cmap='binary');"
      ],
      "metadata": {
        "colab": {
          "base_uri": "https://localhost:8080/",
          "height": 376
        },
        "id": "ZHpWSaGiH9NG",
        "outputId": "233184a5-c0a0-46b9-c133-61a43e4a1418"
      },
      "execution_count": 280,
      "outputs": [
        {
          "output_type": "display_data",
          "data": {
            "text/plain": [
              "<Figure size 400x300 with 2 Axes>"
            ],
            "image/png": "[encoded data removed]"
          },
          "metadata": {}
        }
      ]
    },
    {
      "cell_type": "code",
      "source": [
        "CorrMatrix[target].drop(target).sort_values().plot(kind = \"barh\");"
      ],
      "metadata": {
        "colab": {
          "base_uri": "https://localhost:8080/",
          "height": 291
        },
        "id": "tm-7xMBdlLpr",
        "outputId": "e8e7c337-df45-41db-bae3-ec8307cf3b5f"
      },
      "execution_count": 281,
      "outputs": [
        {
          "output_type": "display_data",
          "data": {
            "text/plain": [
              "<Figure size 400x300 with 1 Axes>"
            ],
            "image/png": "[encoded data removed]"
          },
          "metadata": {}
        }
      ]
    },
    {
      "cell_type": "markdown",
      "source": [
        "##### 5.3 Feature engineering\n",
        "Next, i will reshape our table, selecting only the variables that are most relevant to the problem. I will also remove columns that are very similar to each other to avoid a problem called [multicollinearity](https://pt.wikipedia.org/wiki/Multicolinearidade)\n"
      ],
      "metadata": {
        "id": "O57dWYnFJVgX"
      }
    },
    {
      "cell_type": "code",
      "source": [
        "df.drop(['RowNumber', 'CustomerId', 'Surname', 'Gender', 'Tenure', 'HasCrCard'], axis=1, inplace=True)"
      ],
      "metadata": {
        "id": "CKAtuBlOyimv"
      },
      "execution_count": 282,
      "outputs": []
    },
    {
      "cell_type": "code",
      "source": [
        "CountOfCorrelatedColumns = len(CountCorrelatedColumns(CorrMatrix))"
      ],
      "metadata": {
        "id": "DIuComocXd9l"
      },
      "execution_count": 283,
      "outputs": []
    },
    {
      "cell_type": "code",
      "source": [
        "print(f'\\n\\n Multicollinearity: {CountOfCorrelatedColumns}')"
      ],
      "metadata": {
        "colab": {
          "base_uri": "https://localhost:8080/"
        },
        "id": "BW3G5odTVkJm",
        "outputId": "4359970f-8978-4d3c-d708-db5730a578d5"
      },
      "execution_count": 284,
      "outputs": [
        {
          "output_type": "stream",
          "name": "stdout",
          "text": [
            "\n",
            "\n",
            " Multicollinearity: 0\n"
          ]
        }
      ]
    },
    {
      "cell_type": "markdown",
      "source": [
        "#####5.4 Outliers\n",
        "Let's identify the unusual values in the data set for each column."
      ],
      "metadata": {
        "id": "4ElWKrVNn-vb"
      }
    },
    {
      "cell_type": "code",
      "source": [
        "ShowOutliers(df)"
      ],
      "metadata": {
        "colab": {
          "base_uri": "https://localhost:8080/",
          "height": 372
        },
        "id": "yghaYmCPj7Ii",
        "outputId": "e6c8b2fd-0ae8-4474-ee38-f1da68a2749d"
      },
      "execution_count": 285,
      "outputs": [
        {
          "output_type": "display_data",
          "data": {
            "text/plain": [
              "<Figure size 400x300 with 1 Axes>"
            ],
            "image/png": "[encoded data removed]"
          },
          "metadata": {}
        }
      ]
    },
    {
      "cell_type": "markdown",
      "source": [
        "#####5.5 Split the data into train and test sets (holdout)\n",
        "In this phase, I will separate the predictor variables from the target and also split the data into training and test sets."
      ],
      "metadata": {
        "id": "_9VrqytnstlA"
      }
    },
    {
      "cell_type": "code",
      "source": [
        "X = df.drop(target, axis=1)\n",
        "y = df[target]"
      ],
      "metadata": {
        "id": "Z4FRC9vFtLZj"
      },
      "execution_count": 286,
      "outputs": []
    },
    {
      "cell_type": "code",
      "source": [
        "X_train, X_test, y_train, y_test = train_test_split(X, y, stratify = y, test_size=0.2,  random_state=42)"
      ],
      "metadata": {
        "id": "XLT7q2rNt6Xt"
      },
      "execution_count": 287,
      "outputs": []
    },
    {
      "cell_type": "markdown",
      "source": [
        "<br>\n",
        "\n",
        "##### 5.6 Feature scaling\n",
        "Here, I'll adjust the scale of the columns to a range of 0 to 1 with `'MinMaxScaler'`."
      ],
      "metadata": {
        "id": "4OQ69-Yju8_A"
      }
    },
    {
      "cell_type": "code",
      "source": [
        "scaler = MinMaxScaler()"
      ],
      "metadata": {
        "id": "_3Fc5Y6JvMZ4"
      },
      "execution_count": 288,
      "outputs": []
    },
    {
      "cell_type": "code",
      "source": [
        "X_train = scaler.fit_transform(X_train)\n",
        "X_test = scaler.transform(X_test)"
      ],
      "metadata": {
        "id": "zpjcf16CvPxw"
      },
      "execution_count": 289,
      "outputs": []
    },
    {
      "cell_type": "code",
      "source": [
        "dfMean = pd.DataFrame(X_train).mean()\n",
        "sns.lineplot(data=dfMean);"
      ],
      "metadata": {
        "colab": {
          "base_uri": "https://localhost:8080/",
          "height": 291
        },
        "id": "AYcQODAXPyRi",
        "outputId": "45417e0a-1b1e-4f58-87d3-8162a40101b3"
      },
      "execution_count": 290,
      "outputs": [
        {
          "output_type": "display_data",
          "data": {
            "text/plain": [
              "<Figure size 400x300 with 1 Axes>"
            ],
            "image/png": "[encoded data removed]"
          },
          "metadata": {}
        }
      ]
    },
    {
      "cell_type": "markdown",
      "source": [
        "<!--\n",
        "##### 5.7  Class balancing\n",
        "As the classes of the target variable are unbalanced, I will increase the number of lines in the minority class with the `'oversampling'` strategy.\n",
        "-->"
      ],
      "metadata": {
        "id": "roibWFP-wFyn"
      }
    },
    {
      "cell_type": "markdown",
      "source": [
        "<!--Let's remove the columns of \"rownumber\", \"customerid\", \"surname\" from the given dataset since they do NOT have any contribution to classification in our analysis\n",
        "\n",
        "\n",
        "Outliers: Identificados nas colunas **'Credit Score'**, **'Age'**,\n",
        "**'NumOfProducts'** e **'Exited'**, mas como não são falhas na entrada dos dados (visto no EDA), não os removi.\n",
        "\n",
        "It can be concluded that there has been weak correlations between the numerical features and the target variable. So, evenif we accept the level of 0.80 as criteria for multicollinearity, it can be concluded that there is no multi-colliniearity problem among the variables\". On the other hand it can be safely assumed that while our target variable of 'exited' demonstrates a slight negative correlation with the variables of \"creditscore\", \"tenure\", \"numberofproducts\" 'hascrcard' and 'isactivemember', it demonstrates slight positive correlation with the variables of 'age', 'balance' and 'estimatedsalary\"-->"
      ],
      "metadata": {
        "id": "KgKpy_IOqU3v"
      }
    },
    {
      "cell_type": "markdown",
      "source": [
        "##### 5.7 Class weight\n",
        "The target variable is unbalanced, so instead of using under- or over-sampling methods, i'm going to assign different weights to the classes, giving more importance to the customers who are going to leave.\n"
      ],
      "metadata": {
        "id": "ZHnBu9aukbxV"
      }
    },
    {
      "cell_type": "code",
      "source": [
        "ClassWeight = {0: 0.4, 1: 2.4}"
      ],
      "metadata": {
        "id": "DpDO-GiKZ51Y"
      },
      "execution_count": 356,
      "outputs": []
    },
    {
      "cell_type": "markdown",
      "source": [
        "<br>\n",
        "\n",
        "##### 6. Hyperparameter tuning\n",
        "Selecting the ideal hyperparameters for a machine learning model. Its objective is to improve performance. Used before Cross Validation"
      ],
      "metadata": {
        "id": "_aywtK0bI4Fe"
      }
    },
    {
      "cell_type": "code",
      "source": [
        "ModelsBasic= {\n",
        "    'RandomForest': RandomForestClassifier(random_state=42, class_weight=ClassWeight, max_depth=5, bootstrap=False),\n",
        "    'DecisionTree': DecisionTreeClassifier(random_state=42, class_weight=ClassWeight, max_depth=5)\n",
        "}"
      ],
      "metadata": {
        "id": "uWBmrPQintVl"
      },
      "execution_count": 292,
      "outputs": []
    },
    {
      "cell_type": "code",
      "source": [
        "RfModel = ModelsBasic['RandomForest']\n",
        "RfRandomSearch = FindBestParameters(RfModel, {}, X_train, y_train)"
      ],
      "metadata": {
        "id": "OxQzNzY5os22"
      },
      "execution_count": 293,
      "outputs": []
    },
    {
      "cell_type": "code",
      "source": [
        "DtModel = ModelsBasic['DecisionTree']\n",
        "DtRandomSearch = FindBestParameters(DtModel, {}, X_train, y_train)"
      ],
      "metadata": {
        "id": "0Hc7mweU3AT6"
      },
      "execution_count": 294,
      "outputs": []
    },
    {
      "cell_type": "markdown",
      "source": [
        "<br>\n",
        "\n",
        "##### 6.1 Cross validation\n",
        "Training the models and comparing their performances (accuracy) with cross validation in order to choose one of them for hyperparameter tuning."
      ],
      "metadata": {
        "id": "1zB_DOaHyoL_"
      }
    },
    {
      "cell_type": "code",
      "source": [
        "ModelsTunned = {\n",
        "    'RandomForestTunned': RfRandomSearch.best_estimator_,\n",
        "    'DecisionTreeTunned': DtRandomSearch.best_estimator_\n",
        "}"
      ],
      "metadata": {
        "id": "JMwKhPPsmQ95"
      },
      "execution_count": 295,
      "outputs": []
    },
    {
      "cell_type": "code",
      "source": [
        "PerfModels = CrossValidation(ModelsTunned, X_train, y_train, Metric='recall')\n",
        "PerfModelSorted = PerfModels.sort_values(by='recall')"
      ],
      "metadata": {
        "id": "gEDyqYPbdLxo"
      },
      "execution_count": 296,
      "outputs": []
    },
    {
      "cell_type": "code",
      "source": [
        "sns.lineplot(x='Model', y='recall', data=PerfModelSorted)\n",
        "plt.xlabel('')\n",
        "plt.ylabel('');"
      ],
      "metadata": {
        "colab": {
          "base_uri": "https://localhost:8080/",
          "height": 291
        },
        "id": "XOZtno1o7A4e",
        "outputId": "11eb94a6-90a7-4dc3-858d-ab1aa8976efd"
      },
      "execution_count": 297,
      "outputs": [
        {
          "output_type": "display_data",
          "data": {
            "text/plain": [
              "<Figure size 400x300 with 1 Axes>"
            ],
            "image/png": "[encoded data removed]"
          },
          "metadata": {}
        }
      ]
    },
    {
      "cell_type": "markdown",
      "source": [
        "##### 6.2 Overfitting\n",
        "When a machine learning model fits the training data very well but has difficulty predicting unseen data, the model is memorizing and not learning the patterns."
      ],
      "metadata": {
        "id": "UEOwOIQ5TupY"
      }
    },
    {
      "cell_type": "code",
      "source": [
        "FinalModelTunned = ModelsTunned['RandomForestTunned']\n",
        "FinalModelTunned.fit(X_train, y_train);"
      ],
      "metadata": {
        "id": "7cTxQCOEud2_"
      },
      "execution_count": 357,
      "outputs": []
    },
    {
      "cell_type": "code",
      "source": [
        "TrainPred = FinalModelTunned.predict(X_train)\n",
        "TestPred = FinalModelTunned.predict(X_test)"
      ],
      "metadata": {
        "id": "bexnNoD4Weha"
      },
      "execution_count": 299,
      "outputs": []
    },
    {
      "cell_type": "code",
      "source": [
        "RecallTrain = recall_score(y_train, TrainPred)\n",
        "RecallTest = recall_score(y_test, TestPred)"
      ],
      "metadata": {
        "id": "nO0R8PppTtu4"
      },
      "execution_count": 300,
      "outputs": []
    },
    {
      "cell_type": "code",
      "source": [
        "print('\\n\\n Recall/Train:' , RecallTrain)\n",
        "print(' Recall/Test:', RecallTest)"
      ],
      "metadata": {
        "colab": {
          "base_uri": "https://localhost:8080/"
        },
        "id": "AQwpMZAeZud6",
        "outputId": "24055e77-f565-4c8c-cd89-c376389db8f0"
      },
      "execution_count": 301,
      "outputs": [
        {
          "output_type": "stream",
          "name": "stdout",
          "text": [
            "\n",
            "\n",
            " Recall/Train: 0.8699386503067484\n",
            " Recall/Test: 0.8574938574938575\n"
          ]
        }
      ]
    },
    {
      "cell_type": "markdown",
      "source": [
        "##### 6.3 Cofunsion Matrix\n",
        "Confusion matrix is a table used to evaluate the performance of a model, showing the count of true positives, true negatives, false positives and false negatives."
      ],
      "metadata": {
        "id": "qpkRzvWvNuH1"
      }
    },
    {
      "cell_type": "code",
      "source": [
        "ConfusionMatrix = confusion_matrix(y_test, TestPred)"
      ],
      "metadata": {
        "id": "-Enh5AmCFNQl"
      },
      "execution_count": 302,
      "outputs": []
    },
    {
      "cell_type": "code",
      "source": [
        "sns.heatmap(ConfusionMatrix, annot=True, fmt='d', cmap='Blues',cbar=False)\n",
        "plt.show()"
      ],
      "metadata": {
        "id": "av-WPBr-N2j9",
        "colab": {
          "base_uri": "https://localhost:8080/",
          "height": 291
        },
        "outputId": "63db5ef4-0d45-41dc-ef68-e7ef818a6acd"
      },
      "execution_count": 303,
      "outputs": [
        {
          "output_type": "display_data",
          "data": {
            "text/plain": [
              "<Figure size 400x300 with 1 Axes>"
            ],
            "image/png": "[encoded data removed]"
          },
          "metadata": {}
        }
      ]
    },
    {
      "cell_type": "markdown",
      "source": [
        "##### 6.4 Tradeoff recall/precision\n",
        "\n",
        "When the probability of a prediction is greater than 0.5, the instance is classified as positive, if not, it is classified as negative.\n",
        "\n",
        "So, if my priority is to find customers who will leave in the future, I could lower the threshold to maximize recall, even if I had to sacrifice the precision of my model.\n",
        "\n",
        "This could be my decision, because the cost of losing a customer is much higher than the cost of retaining a customer who wasn't really thinking about canceling."
      ],
      "metadata": {
        "id": "boyYyhBjT3ug"
      }
    },
    {
      "cell_type": "code",
      "source": [
        "Proba = FinalModelTunned.predict_proba(X_test)\n",
        "Precision, Recall, Threshold = precision_recall_curve(y_test, Proba[:, 1])"
      ],
      "metadata": {
        "id": "tY6mEad3xBNH"
      },
      "execution_count": 341,
      "outputs": []
    },
    {
      "cell_type": "code",
      "source": [
        "plt.plot(Threshold, Precision[:-1], 'b-', label='Precision')\n",
        "plt.plot(Threshold, Recall[:-1], 'r-', label='Recall')\n",
        "plt.legend(loc='lower left', fontsize='small', frameon=False);"
      ],
      "metadata": {
        "colab": {
          "base_uri": "https://localhost:8080/",
          "height": 291
        },
        "id": "OQOUpuA_w7ro",
        "outputId": "f1393fb5-e2b5-480e-ff91-78ee4bc71521"
      },
      "execution_count": 342,
      "outputs": [
        {
          "output_type": "display_data",
          "data": {
            "text/plain": [
              "<Figure size 400x300 with 1 Axes>"
            ],
            "image/png": "[encoded data removed]"
          },
          "metadata": {}
        }
      ]
    },
    {
      "cell_type": "markdown",
      "source": [
        "##### ROC and AUC\n",
        "Used to measure the performance of binary classification models, the ROC is a graphical representation of the model's performance, while the AUC quantifies it."
      ],
      "metadata": {
        "id": "eG217TzBXJA4"
      }
    },
    {
      "cell_type": "code",
      "source": [
        "Fpr, Tpr, _ = roc_curve(y_test, Proba[:, 1])\n",
        "RocAuc = roc_auc_score(y_test, Proba[:, 1])"
      ],
      "metadata": {
        "id": "LJAtJ0EgWzRX"
      },
      "execution_count": 345,
      "outputs": []
    },
    {
      "cell_type": "code",
      "source": [
        "plt.plot(Fpr, Tpr)\n",
        "plt.plot([0, 1], [0, 1], linestyle='--')\n",
        "plt.show()"
      ],
      "metadata": {
        "colab": {
          "base_uri": "https://localhost:8080/",
          "height": 291
        },
        "id": "dXt3bdNtVj-4",
        "outputId": "b0a75275-13e6-4f7e-eb88-d8576bc0a2e8"
      },
      "execution_count": 353,
      "outputs": [
        {
          "output_type": "display_data",
          "data": {
            "text/plain": [
              "<Figure size 400x300 with 1 Axes>"
            ],
            "image/png": "[encoded data removed]"
          },
          "metadata": {}
        }
      ]
    },
    {
      "cell_type": "code",
      "source": [
        "RocAuc"
      ],
      "metadata": {
        "colab": {
          "base_uri": "https://localhost:8080/"
        },
        "id": "a_J1a7cwXiuv",
        "outputId": "4d322190-84c7-4d31-9272-9d1a8599411e"
      },
      "execution_count": 352,
      "outputs": [
        {
          "output_type": "execute_result",
          "data": {
            "text/plain": [
              "0.8478578732816021"
            ]
          },
          "metadata": {},
          "execution_count": 352
        }
      ]
    },
    {
      "cell_type": "markdown",
      "source": [
        "##### 6.6 Feature importances\n",
        "I will look at feature importances below in order to interpret which features provide the most predictive power for the model."
      ],
      "metadata": {
        "id": "1GcmQ5D8Jywm"
      }
    },
    {
      "cell_type": "code",
      "source": [
        "Importance = FinalModelTunned.feature_importances_\n",
        "SortedIndex = np.argsort(Importance)"
      ],
      "metadata": {
        "id": "-NVR61LMJyiu"
      },
      "execution_count": 306,
      "outputs": []
    },
    {
      "cell_type": "code",
      "source": [
        "plt.bar(X.columns[SortedIndex], Importance[SortedIndex])\n",
        "plt.xticks(rotation=90)\n",
        "plt.show()"
      ],
      "metadata": {
        "colab": {
          "base_uri": "https://localhost:8080/",
          "height": 372
        },
        "id": "NE_J_FHZwX73",
        "outputId": "b2cf5d4e-3d0f-43b8-bb7c-409b293e455e"
      },
      "execution_count": 307,
      "outputs": [
        {
          "output_type": "display_data",
          "data": {
            "text/plain": [
              "<Figure size 400x300 with 1 Axes>"
            ],
            "image/png": "[encoded data removed]"
          },
          "metadata": {}
        }
      ]
    }
  ]
}