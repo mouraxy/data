{
  "cells": [
    {
      "cell_type": "markdown",
      "metadata": {
        "id": "view-in-github"
      },
      "source": [
        "<a href=\"https://colab.research.google.com/github/mouraxy/room/blob/main/modelos/Anemia%20Level%20Classification.ipynb\" target=\"_parent\"><img src=\"https://colab.research.google.com/assets/colab-badge.svg\" alt=\"Open In Colab\"/></a>"
      ],
      "id": "view-in-github"
    },
    {
      "cell_type": "markdown",
      "source": [
        "`Please upvote↑ if you find this helpful (suggestions are very welcome!)`\n",
        "\n",
        "*Author: copy the code to view the translations.\n",
        "\n",
        "<br>  \n",
        "  \n",
        "#### 1. Objective and description\n",
        "Implementation of a supervised multiclass classifier to identify possible correlations between different degrees of childhood anemia, in children aged 0 to 59 months. Data from the [Nigerian Demographic and Health Census](https://github.com/mouraxy/data/blob/main/raw/childrenAnemia.csv), 2018.\n",
        "  \n",
        "<br>\n",
        "\n",
        "**_Keywords:_** missing data, duplicates, categorical encoding, correlation, feature selection, outliers, scaling, imbalanced classes, hyperparameter tuning, cross-validation, modeling.\n",
        "\n",
        "<!--\n",
        "Definition of each dataset attribute:\n",
        "\n",
        "* **'mother_age'**: Mother's age in 5-year groups\n",
        "* **'type_residence'**: Type of place of residence\n",
        "* **'educational_level'**: Highest educational level\n",
        "* **'social_class'**: Wealth index\n",
        "* **'pregnancies'**: Births in the last five years\n",
        "* **'pregnancy_age'**: Mother's age at pregnancy\n",
        "* **'hemoglobin_level'**: Hemoglobin level adjusted for altitude and smoking (g/dl - 1 decimal)\n",
        "* **'anemia_level'**: Child's level of anemia\n",
        "* **'mosquito_net'**: Has a mosquito net for sleeping\n",
        "* **'smokes'**: Smokes cigarettes\n",
        "* **'marital_status'**: Current marital status\n",
        "* **'residence_partner'**: Currently lives with husband/partner\n",
        "* **'breastfeeding_time'**: When the child was breastfed\n",
        "* **'fever'**: Has had a fever in the last two weeks\n",
        "* **'hemoglobin_level2'**: Hemoglobin level adjusted for altitude (g/dl - 1 decimal)\n",
        "* **'level_anemia2'**: Child's level of anemia\n",
        "* **'medication'**: Taking iron pills, [sprinkles](https://www.ncbi.nlm.nih.gov/pmc/articles/PMC545194/) or syrup\n",
        "-->"
      ],
      "metadata": {
        "id": "ixxznhcb4b3d"
      },
      "id": "ixxznhcb4b3d"
    },
    {
      "cell_type": "code",
      "source": [
        "# print('Hey, you!')"
      ],
      "metadata": {
        "id": "O9ieRu1sPrLL"
      },
      "id": "O9ieRu1sPrLL",
      "execution_count": null,
      "outputs": []
    },
    {
      "cell_type": "markdown",
      "id": "d6e946b5",
      "metadata": {
        "papermill": {
          "duration": 0.006205,
          "end_time": "2023-11-12T08:47:56.080004",
          "exception": false,
          "start_time": "2023-11-12T08:47:56.073799",
          "status": "completed"
        },
        "tags": [],
        "id": "d6e946b5"
      },
      "source": [
        "<br>\n",
        "\n",
        "#### 2. Importing libraries\n",
        "Preparing the development environment. This is common practice when starting Python scripts and notebooks to ensure that all the necessary dependencies (features that other people have already written) are available."
      ]
    },
    {
      "cell_type": "code",
      "execution_count": null,
      "id": "c266677a",
      "metadata": {
        "execution": {
          "iopub.execute_input": "2023-11-12T08:47:58.282145Z",
          "iopub.status.busy": "2023-11-12T08:47:58.281496Z",
          "iopub.status.idle": "2023-11-12T08:47:58.284975Z",
          "shell.execute_reply": "2023-11-12T08:47:58.284382Z"
        },
        "papermill": {
          "duration": 0.012137,
          "end_time": "2023-11-12T08:47:58.287044",
          "exception": false,
          "start_time": "2023-11-12T08:47:58.274907",
          "status": "completed"
        },
        "tags": [],
        "id": "c266677a"
      },
      "outputs": [],
      "source": [
        "# ignore console warnings\n",
        "import warnings\n",
        "warnings.filterwarnings(\"ignore\")"
      ]
    },
    {
      "cell_type": "code",
      "execution_count": null,
      "id": "d03fec67",
      "metadata": {
        "execution": {
          "iopub.execute_input": "2023-11-12T08:47:56.094501Z",
          "iopub.status.busy": "2023-11-12T08:47:56.094211Z",
          "iopub.status.idle": "2023-11-12T08:47:58.267401Z",
          "shell.execute_reply": "2023-11-12T08:47:58.266626Z"
        },
        "papermill": {
          "duration": 2.181996,
          "end_time": "2023-11-12T08:47:58.269498",
          "exception": false,
          "start_time": "2023-11-12T08:47:56.087502",
          "status": "completed"
        },
        "tags": [],
        "id": "d03fec67"
      },
      "outputs": [],
      "source": [
        "# tabular libraries\n",
        "import pandas as pd"
      ]
    },
    {
      "cell_type": "markdown",
      "id": "02547071",
      "metadata": {
        "papermill": {
          "duration": 0.00502,
          "end_time": "2023-11-12T08:47:58.297816",
          "exception": false,
          "start_time": "2023-11-12T08:47:58.292796",
          "status": "completed"
        },
        "tags": [],
        "id": "02547071"
      },
      "source": [
        "<br>\n",
        "\n",
        "#### 3. Loading data\n",
        "The initial step in ML algorithms consists of importing data from external sources into programming environments. It's the first step to building a model."
      ]
    },
    {
      "cell_type": "code",
      "execution_count": null,
      "id": "19660600",
      "metadata": {
        "execution": {
          "iopub.execute_input": "2023-11-12T08:47:58.310116Z",
          "iopub.status.busy": "2023-11-12T08:47:58.309769Z",
          "iopub.status.idle": "2023-11-12T08:47:58.413917Z",
          "shell.execute_reply": "2023-11-12T08:47:58.412644Z"
        },
        "papermill": {
          "duration": 0.113347,
          "end_time": "2023-11-12T08:47:58.416348",
          "exception": false,
          "start_time": "2023-11-12T08:47:58.303001",
          "status": "completed"
        },
        "tags": [],
        "id": "19660600"
      },
      "outputs": [],
      "source": [
        "# connects to the database\n",
        "url = 'https://raw.githubusercontent.com/mouraxy/data/main/raw/childrenAnemia.csv'\n",
        "\n",
        "# changes the column names\n",
        "columns = [\n",
        "    'mother_age',\n",
        "    'type_residence',\n",
        "    'educational_level',\n",
        "    'social_class',\n",
        "    'pregnancies',\n",
        "    'pregnancy_age',\n",
        "    'hemoglobin_level',\n",
        "    'anemia_level',\n",
        "    'mosquito_net',\n",
        "    'smokes',\n",
        "    'marital_status',\n",
        "    'residence_partner',\n",
        "    'breastfeeding_time',\n",
        "    'fever',\n",
        "    'hemoglobin_level2',\n",
        "    'level_anemia2',\n",
        "    'medication'\n",
        "]\n",
        "\n",
        "# read the database\n",
        "raw_data = pd.read_csv(\n",
        "    url,\n",
        "    delimiter=',',\n",
        "    header=0,\n",
        "    names=columns,\n",
        "    encoding='latin-1'\n",
        ")"
      ]
    }
  ],
  "metadata": {
    "kernelspec": {
      "display_name": "Python 3",
      "language": "python",
      "name": "python3"
    },
    "language_info": {
      "codemirror_mode": {
        "name": "ipython",
        "version": 3
      },
      "file_extension": ".py",
      "mimetype": "text/x-python",
      "name": "python",
      "nbconvert_exporter": "python",
      "pygments_lexer": "ipython3",
      "version": "3.10.12"
    },
    "papermill": {
      "default_parameters": {},
      "duration": 15.668848,
      "end_time": "2023-11-12T08:48:09.102021",
      "environment_variables": {},
      "exception": null,
      "input_path": "__notebook__.ipynb",
      "output_path": "__notebook__.ipynb",
      "parameters": {},
      "start_time": "2023-11-12T08:47:53.433173",
      "version": "2.4.0"
    },
    "colab": {
      "provenance": []
    }
  },
  "nbformat": 4,
  "nbformat_minor": 5
}