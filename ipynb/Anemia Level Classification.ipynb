{
  "cells": [
    {
      "cell_type": "markdown",
      "metadata": {
        "id": "view-in-github"
      },
      "source": [
        "<a href=\"https://colab.research.google.com/github/mouraxy/room/blob/main/modelos/Anemia%20Level%20Classification.ipynb\" target=\"_parent\"><img src=\"https://colab.research.google.com/assets/colab-badge.svg\" alt=\"Open In Colab\"/></a>"
      ],
      "id": "view-in-github"
    },
    {
      "cell_type": "markdown",
      "source": [
        "`Please upvote↑ if you find this helpful (suggestions are very welcome!)`\n",
        "  \n",
        "#### 1. Objective and description...\n",
        "Implementation of a supervised multiclass classifier to identify possible correlations between different degrees of childhood anemia, in children aged 0 to 59 months. Data from the [Nigerian Demographic and Health Census](https://github.com/mouraxy/data/blob/main/raw/childrenAnemia.csv), 2018.\n",
        "  \n",
        "<br>\n",
        "\n",
        "**_Keywords:_** missing data, duplicates, categorical encoding, correlation, feature selection, outliers, scaling, imbalanced classes, hyperparameter tuning, cross-validation, modeling.\n",
        "\n",
        "<!--\n",
        "Definition of each dataset attribute:\n",
        "\n",
        "* **'mother_age'**: Mother's age in 5-year groups\n",
        "* **'type_residence'**: Type of place of residence\n",
        "* **'educational_level'**: Highest educational level\n",
        "* **'social_class'**: Wealth index\n",
        "* **'pregnancies'**: Births in the last five years\n",
        "* **'pregnancy_age'**: Mother's age at pregnancy\n",
        "* **'hemoglobin_level'**: Hemoglobin level adjusted for altitude and smoking (g/dl - 1 decimal)\n",
        "* **'anemia_level'**: Child's level of anemia\n",
        "* **'mosquito_net'**: Has a mosquito net for sleeping\n",
        "* **'smokes'**: Smokes cigarettes\n",
        "* **'marital_status'**: Current marital status\n",
        "* **'residence_partner'**: Currently lives with husband/partner\n",
        "* **'breastfeeding_time'**: When the child was breastfed\n",
        "* **'fever'**: Has had a fever in the last two weeks\n",
        "* **'hemoglobin_level2'**: Hemoglobin level adjusted for altitude (g/dl - 1 decimal)\n",
        "* **'level_anemia2'**: Child's level of anemia\n",
        "* **'medication'**: Taking iron pills, [sprinkles](https://www.ncbi.nlm.nih.gov/pmc/articles/PMC545194/) or syrup\n",
        "-->"
      ],
      "metadata": {
        "id": "ixxznhcb4b3d"
      },
      "id": "ixxznhcb4b3d"
    },
    {
      "cell_type": "markdown",
      "id": "d6e946b5",
      "metadata": {
        "papermill": {
          "duration": 0.006205,
          "end_time": "2023-11-12T08:47:56.080004",
          "exception": false,
          "start_time": "2023-11-12T08:47:56.073799",
          "status": "completed"
        },
        "tags": [],
        "id": "d6e946b5"
      },
      "source": [
        "<br>\n",
        "\n",
        "#### 2. Importing libraries...\n",
        "Preparing the development environment. This is common practice when starting Python scripts and notebooks to ensure that all the necessary dependencies (features that other people have already written) are available."
      ]
    },
    {
      "cell_type": "code",
      "source": [
        "# import functions\n",
        "!wget https://raw.githubusercontent.com/mouraxy/data/main/utils.py"
      ],
      "metadata": {
        "id": "vuYFqWFZAWL4"
      },
      "id": "vuYFqWFZAWL4",
      "execution_count": null,
      "outputs": []
    },
    {
      "cell_type": "code",
      "source": [
        "# github functions\n",
        "from utils import formatTable\n",
        "from utils import genMetadata\n",
        "from utils import showDuplicates\n",
        "from utils import showTopValues"
      ],
      "metadata": {
        "id": "dGxIu_WSCJO4"
      },
      "id": "dGxIu_WSCJO4",
      "execution_count": 6,
      "outputs": []
    },
    {
      "cell_type": "code",
      "execution_count": 7,
      "id": "d03fec67",
      "metadata": {
        "execution": {
          "iopub.execute_input": "2023-11-12T08:47:56.094501Z",
          "iopub.status.busy": "2023-11-12T08:47:56.094211Z",
          "iopub.status.idle": "2023-11-12T08:47:58.267401Z",
          "shell.execute_reply": "2023-11-12T08:47:58.266626Z"
        },
        "papermill": {
          "duration": 2.181996,
          "end_time": "2023-11-12T08:47:58.269498",
          "exception": false,
          "start_time": "2023-11-12T08:47:56.087502",
          "status": "completed"
        },
        "tags": [],
        "id": "d03fec67"
      },
      "outputs": [],
      "source": [
        "# tabular libraries\n",
        "import pandas as pd"
      ]
    },
    {
      "cell_type": "markdown",
      "id": "02547071",
      "metadata": {
        "papermill": {
          "duration": 0.00502,
          "end_time": "2023-11-12T08:47:58.297816",
          "exception": false,
          "start_time": "2023-11-12T08:47:58.292796",
          "status": "completed"
        },
        "tags": [],
        "id": "02547071"
      },
      "source": [
        "<br>\n",
        "\n",
        "#### 3. Loading data...\n",
        "The initial step in ML algorithms consists of importing data from external sources into programming environments. It's the first step to building a model."
      ]
    },
    {
      "cell_type": "code",
      "execution_count": 8,
      "id": "19660600",
      "metadata": {
        "execution": {
          "iopub.execute_input": "2023-11-12T08:47:58.310116Z",
          "iopub.status.busy": "2023-11-12T08:47:58.309769Z",
          "iopub.status.idle": "2023-11-12T08:47:58.413917Z",
          "shell.execute_reply": "2023-11-12T08:47:58.412644Z"
        },
        "papermill": {
          "duration": 0.113347,
          "end_time": "2023-11-12T08:47:58.416348",
          "exception": false,
          "start_time": "2023-11-12T08:47:58.303001",
          "status": "completed"
        },
        "tags": [],
        "id": "19660600"
      },
      "outputs": [],
      "source": [
        "# connects to the database\n",
        "url = 'https://raw.githubusercontent.com/mouraxy/data/main/raw/childrenAnemia.csv'\n",
        "\n",
        "# changes the column names\n",
        "columns = [\n",
        "    'mother_age',\n",
        "    'type_residence',\n",
        "    'educational_level',\n",
        "    'social_class',\n",
        "    'pregnancies',\n",
        "    'pregnancy_age',\n",
        "    'hemoglobin_level',\n",
        "    'anemia_level',\n",
        "    'mosquito_net',\n",
        "    'smokes',\n",
        "    'marital_status',\n",
        "    'residence_partner',\n",
        "    'breastfeeding_time',\n",
        "    'fever',\n",
        "    'hemoglobin_level2',\n",
        "    'level_anemia2',\n",
        "    'medication'\n",
        "]\n",
        "\n",
        "# read the database\n",
        "raw_data = pd.read_csv(\n",
        "    url,\n",
        "    delimiter=',',\n",
        "    header=0,\n",
        "    names=columns,\n",
        "    encoding='latin-1'\n",
        ")"
      ]
    },
    {
      "cell_type": "markdown",
      "source": [
        "<br>\n",
        "\n",
        "#### 4. Exploratory analysis...\n",
        "From here, i will try to understand the object of study. So, let's explore the characteristics of our data!"
      ],
      "metadata": {
        "id": "LNSoIaukF9_g"
      },
      "id": "LNSoIaukF9_g"
    },
    {
      "cell_type": "code",
      "source": [
        "print(formatTable(genMetadata(raw_data)))"
      ],
      "metadata": {
        "colab": {
          "base_uri": "https://localhost:8080/"
        },
        "id": "55NcGX6cHIuB",
        "outputId": "c7e97cbb-3b33-4d84-ffd2-cc137857a2b2"
      },
      "id": "55NcGX6cHIuB",
      "execution_count": 9,
      "outputs": [
        {
          "output_type": "stream",
          "name": "stdout",
          "text": [
            "┌────────────────────┬──────────────┬─────────┬───────────┬───────────┬────────┐\n",
            "│ Variable           │ Data Types   │ Nulls   │ Minimum   │ Maximum   │ Mean   │\n",
            "├────────────────────┼──────────────┼─────────┼───────────┼───────────┼────────┤\n",
            "│ mother_age         │ object       │ 0       │ nan       │ nan       │ nan    │\n",
            "│ type_residence     │ object       │ 0       │ nan       │ nan       │ nan    │\n",
            "│ educational_level  │ object       │ 0       │ nan       │ nan       │ nan    │\n",
            "│ social_class       │ object       │ 0       │ nan       │ nan       │ nan    │\n",
            "│ pregnancies        │ int64        │ 0       │ 1.00      │ 6.00      │ 1.82   │\n",
            "│ pregnancy_age      │ int64        │ 0       │ 12.00     │ 48.00     │ 19.57  │\n",
            "│ hemoglobin_level   │ float64      │ 20788   │ 20.00     │ 218.00    │ 114.37 │\n",
            "│ anemia_level       │ object       │ 20788   │ nan       │ nan       │ nan    │\n",
            "│ mosquito_net       │ object       │ 0       │ nan       │ nan       │ nan    │\n",
            "│ smokes             │ object       │ 0       │ nan       │ nan       │ nan    │\n",
            "│ marital_status     │ object       │ 0       │ nan       │ nan       │ nan    │\n",
            "│ residence_partner  │ object       │ 1698    │ nan       │ nan       │ nan    │\n",
            "│ breastfeeding_time │ object       │ 12756   │ nan       │ nan       │ nan    │\n",
            "│ fever              │ object       │ 3211    │ nan       │ nan       │ nan    │\n",
            "│ hemoglobin_level2  │ float64      │ 23742   │ 29.00     │ 170.00    │ 101.27 │\n",
            "│ level_anemia2      │ object       │ 23742   │ nan       │ nan       │ nan    │\n",
            "│ medication         │ object       │ 3211    │ nan       │ nan       │ nan    │\n",
            "└────────────────────┴──────────────┴─────────┴───────────┴───────────┴────────┘\n"
          ]
        }
      ]
    },
    {
      "cell_type": "markdown",
      "source": [
        "<br>\n",
        "\n",
        "#### 4.1 Duplicates...\n",
        "\n",
        "Duplicate data affects the integrity of the data, compromising its accuracy and requiring a large storage allocation."
      ],
      "metadata": {
        "id": "T2iZdLX-IvVZ"
      },
      "id": "T2iZdLX-IvVZ"
    },
    {
      "cell_type": "code",
      "source": [
        "showDuplicates(raw_data)"
      ],
      "metadata": {
        "colab": {
          "base_uri": "https://localhost:8080/",
          "height": 245
        },
        "id": "ZUiWJAB3FKtg",
        "outputId": "754c470b-5a76-41af-dd66-5d86be5aa01a"
      },
      "id": "ZUiWJAB3FKtg",
      "execution_count": 10,
      "outputs": [
        {
          "output_type": "execute_result",
          "data": {
            "text/plain": [
              "(4678, 0.13789647447234996)"
            ]
          },
          "metadata": {},
          "execution_count": 10
        },
        {
          "output_type": "display_data",
          "data": {
            "text/plain": [
              "<Figure size 700x200 with 1 Axes>"
            ],
            "image/png": "[encoded data removed]"
          },
          "metadata": {}
        }
      ]
    },
    {
      "cell_type": "markdown",
      "source": [
        "<br>\n",
        "\n",
        "#### 4.2 Distribution of data...\n",
        "\n",
        "The distribution of the data in each variable identifies\n",
        "which variables may be relevant. With this approach it will not be necessary to write extensive lines of code with visualization libraries."
      ],
      "metadata": {
        "id": "dkpaGv2gKYBR"
      },
      "id": "dkpaGv2gKYBR"
    },
    {
      "cell_type": "code",
      "source": [
        "print(formatTable(showTopValues(raw_data)))"
      ],
      "metadata": {
        "id": "kEthyaWwOZax",
        "colab": {
          "base_uri": "https://localhost:8080/"
        },
        "outputId": "02f3d04c-e236-4db4-d754-01500c24d3b8"
      },
      "id": "kEthyaWwOZax",
      "execution_count": 13,
      "outputs": [
        {
          "output_type": "stream",
          "name": "stdout",
          "text": [
            "┌────────────────────┬─────────────────┬─────────────────────┬──────────┐\n",
            "│ Var                │ Top1            │ Top2                │ Others   │\n",
            "├────────────────────┼─────────────────┼─────────────────────┼──────────┤\n",
            "│ mother_age         │ 25-29           │ 30-34               │ +5       │\n",
            "│ type_residence     │ Rural           │ Urban               │ +0       │\n",
            "│ educational_level  │ No education    │ Secondary           │ +2       │\n",
            "│ social_class       │ Poorest         │ Poorer              │ +3       │\n",
            "│ pregnancies        │ 2               │ 1                   │ +4       │\n",
            "│ pregnancy_age      │ 17              │ 16                  │ +32      │\n",
            "│ hemoglobin_level   │ 113.0           │ 116.0               │ +121     │\n",
            "│ anemia_level       │ Not anemic      │ Moderate            │ +2       │\n",
            "│ mosquito_net       │ Yes             │ No                  │ +0       │\n",
            "│ smokes             │ No              │ Yes                 │ +0       │\n",
            "│ marital_status     │ Married         │ Living with partner │ +4       │\n",
            "│ residence_partner  │ Living with her │ Staying elsewhere   │ +0       │\n",
            "│ breastfeeding_time │ Immediately     │ Hours: 1            │ +39      │\n",
            "│ fever              │ No              │ Yes                 │ +1       │\n",
            "│ hemoglobin_level2  │ 102.0           │ 108.0               │ +117     │\n",
            "│ level_anemia2      │ Moderate        │ Not anemic          │ +2       │\n",
            "│ medication         │ No              │ Yes                 │ +1       │\n",
            "└────────────────────┴─────────────────┴─────────────────────┴──────────┘\n"
          ]
        }
      ]
    },
    {
      "cell_type": "markdown",
      "source": [
        "<br>\n",
        "\n",
        "#### 4.2.1 Target variable...\n",
        "The target variable is what we should predict in a statistical or machine learning model. In other words, anticipating your results is the goal!"
      ],
      "metadata": {
        "id": "I8wssDNUjyXD"
      },
      "id": "I8wssDNUjyXD"
    },
    {
      "cell_type": "code",
      "source": [
        "target = 'anemia_level'"
      ],
      "metadata": {
        "id": "-yYZDb38jxT7"
      },
      "id": "-yYZDb38jxT7",
      "execution_count": 14,
      "outputs": []
    }
  ],
  "metadata": {
    "kernelspec": {
      "display_name": "Python 3",
      "language": "python",
      "name": "python3"
    },
    "language_info": {
      "codemirror_mode": {
        "name": "ipython",
        "version": 3
      },
      "file_extension": ".py",
      "mimetype": "text/x-python",
      "name": "python",
      "nbconvert_exporter": "python",
      "pygments_lexer": "ipython3",
      "version": "3.10.12"
    },
    "papermill": {
      "default_parameters": {},
      "duration": 15.668848,
      "end_time": "2023-11-12T08:48:09.102021",
      "environment_variables": {},
      "exception": null,
      "input_path": "__notebook__.ipynb",
      "output_path": "__notebook__.ipynb",
      "parameters": {},
      "start_time": "2023-11-12T08:47:53.433173",
      "version": "2.4.0"
    },
    "colab": {
      "provenance": []
    }
  },
  "nbformat": 4,
  "nbformat_minor": 5
}