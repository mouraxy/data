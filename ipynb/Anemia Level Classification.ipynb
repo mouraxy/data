{
  "cells": [
    {
      "cell_type": "markdown",
      "metadata": {
        "id": "view-in-github"
      },
      "source": [
        "<a href=\"https://colab.research.google.com/github/mouraxy/room/blob/main/modelos/Anemia%20Level%20Classification.ipynb\" target=\"_parent\"><img src=\"https://colab.research.google.com/assets/colab-badge.svg\" alt=\"Open In Colab\"/></a>"
      ],
      "id": "view-in-github"
    },
    {
      "cell_type": "markdown",
      "source": [
        "`Please upvote↑ if you find this helpful (suggestions are very welcome!)`\n",
        "  \n",
        "#### 1. Objective and description...\n",
        "Implementation of a supervised multiclass classifier to identify possible correlations between different degrees of childhood anemia, in children aged 0 to 59 months. Data from the [Nigerian Demographic and Health Census](https://github.com/mouraxy/data/blob/main/raw/childrenAnemia.csv), 2018.\n",
        "  \n",
        "<br>\n",
        "\n",
        "Definition of each dataset attribute:\n",
        "\n",
        "* **'mother_age'**: Mother's age in 5-year groups\n",
        "* **'type_residence'**: Location of the house\n",
        "* **'educational_level'**: Mother's level of education\n",
        "* **'social_class'**: Mother's social class\n",
        "* **'pregnancies'**: Births in the last five years\n",
        "* **'pregnancy_age'**: Mother's age at pregnancy\n",
        "* **'hemoglobin_level'**: Hemoglobin level adjusted for altitude and smoking\n",
        "* **'anemia_level'**: Child's level of anemia\n",
        "* **'mosquito_net'**: Has a mosquito net for sleeping\n",
        "* **'smokes'**: Smokes cigarettes\n",
        "* **'marital_status'**: Current marital status\n",
        "* **'residence_partner'**: Currently lives with husband/partner\n",
        "* **'breastfeeding_time'**: When the child was breastfed\n",
        "* **'fever'**: Had a fever in the last two weeks\n",
        "* **'hemoglobin_level2'**: Hemoglobin level adjusted for altitude\n",
        "* **'level_anemia2'**: Child's level of anemia\n",
        "* **'medication'**: Taking iron pills, [sprinkles](https://www.ncbi.nlm.nih.gov/pmc/articles/PMC545194/) or syrup\n",
        "\n",
        "<br>\n",
        "\n",
        "**_Keywords:_** categorical encoding, correlation, duplicates, feature selection, missing data."
      ],
      "metadata": {
        "id": "ixxznhcb4b3d"
      },
      "id": "ixxznhcb4b3d"
    },
    {
      "cell_type": "markdown",
      "id": "d6e946b5",
      "metadata": {
        "papermill": {
          "duration": 0.006205,
          "end_time": "2023-11-12T08:47:56.080004",
          "exception": false,
          "start_time": "2023-11-12T08:47:56.073799",
          "status": "completed"
        },
        "tags": [],
        "id": "d6e946b5"
      },
      "source": [
        "<br>\n",
        "\n",
        "#### 2. Importing libraries...\n",
        "Preparing the development environment. This is common practice when starting Python scripts and notebooks to ensure that all the necessary dependencies (features that other people have already written) are available."
      ]
    },
    {
      "cell_type": "code",
      "source": [
        "!wget https://raw.githubusercontent.com/mouraxy/data/main/utils.py"
      ],
      "metadata": {
        "colab": {
          "base_uri": "https://localhost:8080/"
        },
        "id": "vuYFqWFZAWL4",
        "outputId": "51c804dc-dd28-4037-e443-62c3463b32da"
      },
      "id": "vuYFqWFZAWL4",
      "execution_count": 169,
      "outputs": [
        {
          "output_type": "stream",
          "name": "stdout",
          "text": [
            "--2024-02-26 00:04:27--  https://raw.githubusercontent.com/mouraxy/data/main/utils.py\n",
            "Resolving raw.githubusercontent.com (raw.githubusercontent.com)... 185.199.108.133, 185.199.109.133, 185.199.110.133, ...\n",
            "Connecting to raw.githubusercontent.com (raw.githubusercontent.com)|185.199.108.133|:443... connected.\n",
            "HTTP request sent, awaiting response... 200 OK\n",
            "Length: 1899 (1.9K) [text/plain]\n",
            "Saving to: ‘utils.py.2’\n",
            "\n",
            "\rutils.py.2            0%[                    ]       0  --.-KB/s               \rutils.py.2          100%[===================>]   1.85K  --.-KB/s    in 0s      \n",
            "\n",
            "2024-02-26 00:04:28 (26.2 MB/s) - ‘utils.py.2’ saved [1899/1899]\n",
            "\n"
          ]
        }
      ]
    },
    {
      "cell_type": "code",
      "source": [
        "# github functions\n",
        "from utils import formatTable\n",
        "from utils import genMetadata\n",
        "from utils import showDuplicates\n",
        "from utils import showTopValues"
      ],
      "metadata": {
        "id": "dGxIu_WSCJO4"
      },
      "id": "dGxIu_WSCJO4",
      "execution_count": 170,
      "outputs": []
    },
    {
      "cell_type": "code",
      "execution_count": 171,
      "id": "d03fec67",
      "metadata": {
        "execution": {
          "iopub.execute_input": "2023-11-12T08:47:56.094501Z",
          "iopub.status.busy": "2023-11-12T08:47:56.094211Z",
          "iopub.status.idle": "2023-11-12T08:47:58.267401Z",
          "shell.execute_reply": "2023-11-12T08:47:58.266626Z"
        },
        "papermill": {
          "duration": 2.181996,
          "end_time": "2023-11-12T08:47:58.269498",
          "exception": false,
          "start_time": "2023-11-12T08:47:56.087502",
          "status": "completed"
        },
        "tags": [],
        "id": "d03fec67"
      },
      "outputs": [],
      "source": [
        "# tabular libraries\n",
        "import pandas as pd\n",
        "import missingno as ms\n",
        "\n",
        "# machine learning libraries\n",
        "from sklearn.preprocessing import LabelEncoder\n",
        "\n",
        "# data visualization libraries\n",
        "import seaborn as sns"
      ]
    },
    {
      "cell_type": "markdown",
      "id": "02547071",
      "metadata": {
        "papermill": {
          "duration": 0.00502,
          "end_time": "2023-11-12T08:47:58.297816",
          "exception": false,
          "start_time": "2023-11-12T08:47:58.292796",
          "status": "completed"
        },
        "tags": [],
        "id": "02547071"
      },
      "source": [
        "<br>\n",
        "\n",
        "#### 3. Loading data...\n",
        "The initial step in ML algorithms consists of importing data from external sources into programming environments. It's the first step to building a model."
      ]
    },
    {
      "cell_type": "code",
      "source": [
        "# connects to the database\n",
        "url = 'https://raw.githubusercontent.com/mouraxy/data/main/raw/childrenAnemia.csv'"
      ],
      "metadata": {
        "id": "FWYLxYttYgNW"
      },
      "id": "FWYLxYttYgNW",
      "execution_count": 172,
      "outputs": []
    },
    {
      "cell_type": "code",
      "source": [
        "# changes the column names\n",
        "columns = [\n",
        "    'mother_age',\n",
        "    'type_residence',\n",
        "    'educational_level',\n",
        "    'social_class',\n",
        "    'pregnancies',\n",
        "    'pregnancy_age',\n",
        "    'hemoglobin_level',\n",
        "    'anemia_level',\n",
        "    'mosquito_net',\n",
        "    'smokes',\n",
        "    'marital_status',\n",
        "    'residence_partner',\n",
        "    'breastfeeding_time',\n",
        "    'fever',\n",
        "    'hemoglobin_level2',\n",
        "    'level_anemia2',\n",
        "    'medication'\n",
        "]"
      ],
      "metadata": {
        "id": "FIp_J9yJYfaO"
      },
      "id": "FIp_J9yJYfaO",
      "execution_count": 173,
      "outputs": []
    },
    {
      "cell_type": "code",
      "execution_count": 174,
      "id": "19660600",
      "metadata": {
        "execution": {
          "iopub.execute_input": "2023-11-12T08:47:58.310116Z",
          "iopub.status.busy": "2023-11-12T08:47:58.309769Z",
          "iopub.status.idle": "2023-11-12T08:47:58.413917Z",
          "shell.execute_reply": "2023-11-12T08:47:58.412644Z"
        },
        "papermill": {
          "duration": 0.113347,
          "end_time": "2023-11-12T08:47:58.416348",
          "exception": false,
          "start_time": "2023-11-12T08:47:58.303001",
          "status": "completed"
        },
        "tags": [],
        "id": "19660600"
      },
      "outputs": [],
      "source": [
        "# read the database\n",
        "raw_data = pd.read_csv(\n",
        "    url,\n",
        "    delimiter=',',\n",
        "    header=0,\n",
        "    names=columns,\n",
        "    encoding='latin-1'\n",
        ")"
      ]
    },
    {
      "cell_type": "markdown",
      "source": [
        "<br>\n",
        "\n",
        "#### 4. Exploratory analysis...\n",
        "From here, i will try to understand the object of study. So, let's explore the characteristics of our data!"
      ],
      "metadata": {
        "id": "LNSoIaukF9_g"
      },
      "id": "LNSoIaukF9_g"
    },
    {
      "cell_type": "code",
      "source": [
        "rows = len(raw_data)"
      ],
      "metadata": {
        "id": "Q43lVfj3ArpU"
      },
      "id": "Q43lVfj3ArpU",
      "execution_count": 175,
      "outputs": []
    },
    {
      "cell_type": "code",
      "source": [
        "print(f'Number of rows: {rows}')"
      ],
      "metadata": {
        "colab": {
          "base_uri": "https://localhost:8080/"
        },
        "id": "bDBFJJo0-T0F",
        "outputId": "1585f433-f40a-4fd7-c5e3-f94a5d32ccb7"
      },
      "id": "bDBFJJo0-T0F",
      "execution_count": 176,
      "outputs": [
        {
          "output_type": "stream",
          "name": "stdout",
          "text": [
            "Number of rows: 33924\n"
          ]
        }
      ]
    },
    {
      "cell_type": "code",
      "source": [
        "print(formatTable(genMetadata(raw_data)))"
      ],
      "metadata": {
        "colab": {
          "base_uri": "https://localhost:8080/"
        },
        "id": "55NcGX6cHIuB",
        "outputId": "a81859fe-cca3-4a38-dc70-dc0d585a7d3c"
      },
      "id": "55NcGX6cHIuB",
      "execution_count": 177,
      "outputs": [
        {
          "output_type": "stream",
          "name": "stdout",
          "text": [
            "┌────────────────────┬──────────────┬─────────┬───────────┬───────────┬────────┐\n",
            "│ Variable           │ Data Types   │ Nulls   │ Minimum   │ Maximum   │ Mean   │\n",
            "├────────────────────┼──────────────┼─────────┼───────────┼───────────┼────────┤\n",
            "│ mother_age         │ object       │ 0       │ nan       │ nan       │ nan    │\n",
            "│ type_residence     │ object       │ 0       │ nan       │ nan       │ nan    │\n",
            "│ educational_level  │ object       │ 0       │ nan       │ nan       │ nan    │\n",
            "│ social_class       │ object       │ 0       │ nan       │ nan       │ nan    │\n",
            "│ pregnancies        │ int64        │ 0       │ 1.00      │ 6.00      │ 1.82   │\n",
            "│ pregnancy_age      │ int64        │ 0       │ 12.00     │ 48.00     │ 19.57  │\n",
            "│ hemoglobin_level   │ float64      │ 20788   │ 20.00     │ 218.00    │ 114.37 │\n",
            "│ anemia_level       │ object       │ 20788   │ nan       │ nan       │ nan    │\n",
            "│ mosquito_net       │ object       │ 0       │ nan       │ nan       │ nan    │\n",
            "│ smokes             │ object       │ 0       │ nan       │ nan       │ nan    │\n",
            "│ marital_status     │ object       │ 0       │ nan       │ nan       │ nan    │\n",
            "│ residence_partner  │ object       │ 1698    │ nan       │ nan       │ nan    │\n",
            "│ breastfeeding_time │ object       │ 12756   │ nan       │ nan       │ nan    │\n",
            "│ fever              │ object       │ 3211    │ nan       │ nan       │ nan    │\n",
            "│ hemoglobin_level2  │ float64      │ 23742   │ 29.00     │ 170.00    │ 101.27 │\n",
            "│ level_anemia2      │ object       │ 23742   │ nan       │ nan       │ nan    │\n",
            "│ medication         │ object       │ 3211    │ nan       │ nan       │ nan    │\n",
            "└────────────────────┴──────────────┴─────────┴───────────┴───────────┴────────┘\n"
          ]
        }
      ]
    },
    {
      "cell_type": "markdown",
      "source": [
        "<br>\n",
        "\n",
        "#### 4.1 Duplicates...\n",
        "\n",
        "Duplicate data affects the integrity of the data, compromising its accuracy and requiring a large storage allocation."
      ],
      "metadata": {
        "id": "T2iZdLX-IvVZ"
      },
      "id": "T2iZdLX-IvVZ"
    },
    {
      "cell_type": "code",
      "source": [
        "showDuplicates(raw_data)"
      ],
      "metadata": {
        "colab": {
          "base_uri": "https://localhost:8080/",
          "height": 245
        },
        "id": "ZUiWJAB3FKtg",
        "outputId": "0ceed42a-1455-4ff4-8bd5-134503c487db"
      },
      "id": "ZUiWJAB3FKtg",
      "execution_count": 178,
      "outputs": [
        {
          "output_type": "execute_result",
          "data": {
            "text/plain": [
              "(4678, 0.13789647447234996)"
            ]
          },
          "metadata": {},
          "execution_count": 178
        },
        {
          "output_type": "display_data",
          "data": {
            "text/plain": [
              "<Figure size 700x200 with 1 Axes>"
            ],
            "image/png": "[encoded data removed]"
          },
          "metadata": {}
        }
      ]
    },
    {
      "cell_type": "markdown",
      "source": [
        "<br>\n",
        "\n",
        "#### 4.2 Distribution of data...\n",
        "\n",
        "The distribution of the data in each variable identifies\n",
        "which variables may be relevant. With this approach it will not be necessary to write extensive lines of code with visualization libraries."
      ],
      "metadata": {
        "id": "dkpaGv2gKYBR"
      },
      "id": "dkpaGv2gKYBR"
    },
    {
      "cell_type": "code",
      "source": [
        "print(formatTable(showTopValues(raw_data)))"
      ],
      "metadata": {
        "id": "kEthyaWwOZax",
        "colab": {
          "base_uri": "https://localhost:8080/"
        },
        "outputId": "c5a07e89-9682-41c4-88dd-cfeb69eafe38"
      },
      "id": "kEthyaWwOZax",
      "execution_count": 179,
      "outputs": [
        {
          "output_type": "stream",
          "name": "stdout",
          "text": [
            "┌────────────────────┬─────────────────┬─────────────────────┬──────────┐\n",
            "│ Var                │ Top1            │ Top2                │ Others   │\n",
            "├────────────────────┼─────────────────┼─────────────────────┼──────────┤\n",
            "│ mother_age         │ 25-29           │ 30-34               │ +5       │\n",
            "│ type_residence     │ Rural           │ Urban               │ +0       │\n",
            "│ educational_level  │ No education    │ Secondary           │ +2       │\n",
            "│ social_class       │ Poorest         │ Poorer              │ +3       │\n",
            "│ pregnancies        │ 2               │ 1                   │ +4       │\n",
            "│ pregnancy_age      │ 17              │ 16                  │ +32      │\n",
            "│ hemoglobin_level   │ 113.0           │ 116.0               │ +121     │\n",
            "│ anemia_level       │ Not anemic      │ Moderate            │ +2       │\n",
            "│ mosquito_net       │ Yes             │ No                  │ +0       │\n",
            "│ smokes             │ No              │ Yes                 │ +0       │\n",
            "│ marital_status     │ Married         │ Living with partner │ +4       │\n",
            "│ residence_partner  │ Living with her │ Staying elsewhere   │ +0       │\n",
            "│ breastfeeding_time │ Immediately     │ Hours: 1            │ +39      │\n",
            "│ fever              │ No              │ Yes                 │ +1       │\n",
            "│ hemoglobin_level2  │ 102.0           │ 108.0               │ +117     │\n",
            "│ level_anemia2      │ Moderate        │ Not anemic          │ +2       │\n",
            "│ medication         │ No              │ Yes                 │ +1       │\n",
            "└────────────────────┴─────────────────┴─────────────────────┴──────────┘\n"
          ]
        }
      ]
    },
    {
      "cell_type": "markdown",
      "source": [
        "<br>\n",
        "\n",
        "#### 4.2.1 Target variable...\n",
        "The target variable is what we should predict in a statistical or machine learning model. In other words, anticipating your results is the goal!"
      ],
      "metadata": {
        "id": "I8wssDNUjyXD"
      },
      "id": "I8wssDNUjyXD"
    },
    {
      "cell_type": "code",
      "source": [
        "target = 'anemia_level'"
      ],
      "metadata": {
        "id": "-yYZDb38jxT7"
      },
      "id": "-yYZDb38jxT7",
      "execution_count": 180,
      "outputs": []
    },
    {
      "cell_type": "markdown",
      "source": [
        "<br>\n",
        "\n",
        "#### 5. Data pre-processing...\n",
        "\n",
        "Now, i'am going to manipulate the raw data into a more favorable format.  First, I'll remove all unwanted entries (empty rows and duplicates). This will make the models more impartial."
      ],
      "metadata": {
        "id": "6TIvVqzmytVE"
      },
      "id": "6TIvVqzmytVE"
    },
    {
      "cell_type": "code",
      "source": [
        "df_clean = raw_data.copy()"
      ],
      "metadata": {
        "id": "lZjEJ-sO4PlL"
      },
      "id": "lZjEJ-sO4PlL",
      "execution_count": 181,
      "outputs": []
    },
    {
      "cell_type": "code",
      "source": [
        "df_clean = df_clean.dropna()"
      ],
      "metadata": {
        "id": "gpSkUqmH9LIE"
      },
      "id": "gpSkUqmH9LIE",
      "execution_count": 182,
      "outputs": []
    },
    {
      "cell_type": "code",
      "source": [
        "df_clean = df_clean.drop_duplicates()"
      ],
      "metadata": {
        "id": "OfEVXADK9j6k"
      },
      "id": "OfEVXADK9j6k",
      "execution_count": 183,
      "outputs": []
    },
    {
      "cell_type": "code",
      "source": [
        "print(f'Rows left: {len(df_clean)}')"
      ],
      "metadata": {
        "colab": {
          "base_uri": "https://localhost:8080/"
        },
        "id": "t8idgALdBAjM",
        "outputId": "d232ccce-884f-4bfc-d06b-a052379afb78"
      },
      "id": "t8idgALdBAjM",
      "execution_count": 184,
      "outputs": [
        {
          "output_type": "stream",
          "name": "stdout",
          "text": [
            "Rows left: 5878\n"
          ]
        }
      ]
    },
    {
      "cell_type": "code",
      "source": [
        "ms.matrix(df_clean, fontsize=0, labels=False, sparkline=False, figsize=(7, 2));"
      ],
      "metadata": {
        "colab": {
          "base_uri": "https://localhost:8080/",
          "height": 191
        },
        "id": "6wcdny0i97Dd",
        "outputId": "f6b6bc63-1a31-4493-dae6-4905069c7395"
      },
      "id": "6wcdny0i97Dd",
      "execution_count": 185,
      "outputs": [
        {
          "output_type": "display_data",
          "data": {
            "text/plain": [
              "<Figure size 700x200 with 1 Axes>"
            ],
            "image/png": "[encoded data removed]"
          },
          "metadata": {}
        }
      ]
    },
    {
      "cell_type": "markdown",
      "source": [
        "<br>\n",
        "\n",
        "#### 5.1 Categorical encoding...\n",
        "The next step is transform each categorical variable. Each label will be mapped to an integer, making it easier to use these variables in algorithms that require numerical entries."
      ],
      "metadata": {
        "id": "RcstkoNBD7PU"
      },
      "id": "RcstkoNBD7PU"
    },
    {
      "cell_type": "code",
      "source": [
        "df_clean[target].value_counts()"
      ],
      "metadata": {
        "colab": {
          "base_uri": "https://localhost:8080/"
        },
        "id": "D9aOo3B_OHdU",
        "outputId": "62f65d21-5445-449d-8d55-4b36d6638e36"
      },
      "id": "D9aOo3B_OHdU",
      "execution_count": 186,
      "outputs": [
        {
          "output_type": "execute_result",
          "data": {
            "text/plain": [
              "Not anemic    2464\n",
              "Moderate      1767\n",
              "Mild          1575\n",
              "Severe          72\n",
              "Name: anemia_level, dtype: int64"
            ]
          },
          "metadata": {},
          "execution_count": 186
        }
      ]
    },
    {
      "cell_type": "code",
      "source": [
        "df_numeric = df_clean.copy()"
      ],
      "metadata": {
        "id": "cYFSNkmfUbbu"
      },
      "id": "cYFSNkmfUbbu",
      "execution_count": 187,
      "outputs": []
    },
    {
      "cell_type": "code",
      "source": [
        "target_map = {\n",
        "'Not anemic': 0,\n",
        "'Moderate': 1,\n",
        "'Mild': 2,\n",
        "'Severe': 3\n",
        "}\n",
        "\n",
        "df_numeric[target] = df_numeric[target].map(target_map)"
      ],
      "metadata": {
        "id": "_bq9fLh-NwaN"
      },
      "id": "_bq9fLh-NwaN",
      "execution_count": 188,
      "outputs": []
    },
    {
      "cell_type": "code",
      "source": [
        "txt_columns = df_numeric.select_dtypes(include=['object']).columns\n",
        "\n",
        "print(f'Text columns: {txt_columns}')"
      ],
      "metadata": {
        "colab": {
          "base_uri": "https://localhost:8080/"
        },
        "id": "E7_NgrDeV5JV",
        "outputId": "14c7d9de-034f-489e-e05d-6ba892591cd5"
      },
      "id": "E7_NgrDeV5JV",
      "execution_count": 189,
      "outputs": [
        {
          "output_type": "stream",
          "name": "stdout",
          "text": [
            "Text columns: Index(['mother_age', 'type_residence', 'educational_level', 'social_class',\n",
            "       'mosquito_net', 'smokes', 'marital_status', 'residence_partner',\n",
            "       'breastfeeding_time', 'fever', 'level_anemia2', 'medication'],\n",
            "      dtype='object')\n"
          ]
        }
      ]
    },
    {
      "cell_type": "code",
      "source": [
        "le = LabelEncoder()\n",
        "\n",
        "for col in txt_columns:\n",
        "    df_numeric[col] = le.fit_transform(df_numeric[col])"
      ],
      "metadata": {
        "id": "ZGcaILHnPF00"
      },
      "id": "ZGcaILHnPF00",
      "execution_count": 190,
      "outputs": []
    },
    {
      "cell_type": "markdown",
      "source": [
        "<br>\n",
        "\n",
        "#### 5.2 Correlation...\n",
        "The correlation matrix is ​​a table that shows how variables are related to each other, ranging from -1 to 1. This visualization is essential to identify the most important characteristics of our data."
      ],
      "metadata": {
        "id": "-86L2AORWopG"
      },
      "id": "-86L2AORWopG"
    },
    {
      "cell_type": "code",
      "source": [
        "sns.heatmap(df_numeric.corr(), cmap='binary');"
      ],
      "metadata": {
        "colab": {
          "base_uri": "https://localhost:8080/",
          "height": 556
        },
        "id": "NtTf00uaWo8V",
        "outputId": "4bcdc67c-5611-4db0-e7eb-b53381ad2de8"
      },
      "id": "NtTf00uaWo8V",
      "execution_count": 191,
      "outputs": [
        {
          "output_type": "display_data",
          "data": {
            "text/plain": [
              "<Figure size 640x480 with 2 Axes>"
            ],
            "image/png": "[encoded data removed]"
          },
          "metadata": {}
        }
      ]
    },
    {
      "cell_type": "markdown",
      "source": [
        "  \n",
        "  <br>\n",
        "\n",
        "  #### 5.3 Feature selection...\n",
        "  \n",
        "  Next, i will reshape our table, selecting only the variables that are most relevant to the problem. I will also remove columns that are very similar to each other to avoid a problem called [multicollinearity](https://pt.wikipedia.org/wiki/Multicolinearidade)\n"
      ],
      "metadata": {
        "id": "bezh_RRpZK8m"
      },
      "id": "bezh_RRpZK8m"
    },
    {
      "cell_type": "code",
      "source": [
        "keep_cols = [\n",
        "  target,\n",
        "  'fever',\n",
        "  'medication',\n",
        "  'mother_age',\n",
        "  'social_class',\n",
        "  'hemoglobin_level'\n",
        "]"
      ],
      "metadata": {
        "id": "sVZyOQUaaCE2"
      },
      "id": "sVZyOQUaaCE2",
      "execution_count": 192,
      "outputs": []
    },
    {
      "cell_type": "code",
      "source": [
        "df = df_numeric[keep_cols]\n",
        "df.columns"
      ],
      "metadata": {
        "colab": {
          "base_uri": "https://localhost:8080/"
        },
        "id": "1g_luTrjcfHt",
        "outputId": "400ede1d-9985-42fb-bb62-28ca092a0e7f"
      },
      "id": "1g_luTrjcfHt",
      "execution_count": 193,
      "outputs": [
        {
          "output_type": "execute_result",
          "data": {
            "text/plain": [
              "Index(['anemia_level', 'fever', 'medication', 'mother_age', 'social_class',\n",
              "       'hemoglobin_level'],\n",
              "      dtype='object')"
            ]
          },
          "metadata": {},
          "execution_count": 193
        }
      ]
    }
  ],
  "metadata": {
    "kernelspec": {
      "display_name": "Python 3",
      "language": "python",
      "name": "python3"
    },
    "language_info": {
      "codemirror_mode": {
        "name": "ipython",
        "version": 3
      },
      "file_extension": ".py",
      "mimetype": "text/x-python",
      "name": "python",
      "nbconvert_exporter": "python",
      "pygments_lexer": "ipython3",
      "version": "3.10.12"
    },
    "papermill": {
      "default_parameters": {},
      "duration": 15.668848,
      "end_time": "2023-11-12T08:48:09.102021",
      "environment_variables": {},
      "exception": null,
      "input_path": "__notebook__.ipynb",
      "output_path": "__notebook__.ipynb",
      "parameters": {},
      "start_time": "2023-11-12T08:47:53.433173",
      "version": "2.4.0"
    },
    "colab": {
      "provenance": [],
      "collapsed_sections": [
        "d6e946b5"
      ]
    }
  },
  "nbformat": 4,
  "nbformat_minor": 5
}